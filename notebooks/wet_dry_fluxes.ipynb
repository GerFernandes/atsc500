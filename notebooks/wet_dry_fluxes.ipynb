{
 "cells": [
  {
   "cell_type": "markdown",
   "metadata": {
    "toc": true
   },
   "source": [
    "<h1>Table of Contents<span class=\"tocSkip\"></span></h1>\n",
    "<div class=\"toc\" style=\"margin-top: 1em;\"><ul class=\"toc-item\"><li><span><a href=\"#buoyancy-flux-in-a-cloudy-boundary-layer\" data-toc-modified-id=\"buoyancy-flux-in-a-cloudy-boundary-layer-1\"><span class=\"toc-item-num\">1&nbsp;&nbsp;</span>buoyancy flux in a cloudy boundary layer</a></span></li></ul></div>"
   ]
  },
  {
   "cell_type": "code",
   "execution_count": 9,
   "metadata": {
    "scrolled": true
   },
   "outputs": [
    {
     "name": "stdout",
     "output_type": "stream",
     "text": [
      "adding /Users/phil/repos/atsc500 to sys.path\n",
      "imported /Users/phil/repos/atsc500/a500\n"
     ]
    }
   ],
   "source": [
    "import site\n",
    "from pathlib import Path\n",
    "import sys\n",
    "from add_path import add_path\n",
    "add_path()\n",
    "import a500\n",
    "print(f'imported {a500.__path__[0]}')"
   ]
  },
  {
   "cell_type": "markdown",
   "metadata": {},
   "source": [
    "# buoyancy flux in a cloudy boundary layer"
   ]
  },
  {
   "cell_type": "markdown",
   "metadata": {},
   "source": [
    "We want to find $A_w, B_w, A_d$ and $B_d$ such that out of cloud:\n",
    "\n",
    "$$\\overline{w^\\prime\\theta_v^\\prime}=A_d\\overline{w^\\prime\\theta_l^\\prime}+B_d\\overline{w^\\prime q_v^\\prime} \\ \\ \\ \\ \\ \\ \\ \\ \\ \\ \\ \\ \\ \\ \\ \\ \\ \\ \\ \\ \\ \\ (1),\\\\[5mm]$$\n",
    "\n",
    "while in cloud:\n",
    "\n",
    "\n",
    "\n",
    "$$\\overline{w^\\prime\\theta_v^\\prime}=A_w\\overline{w^\\prime\\theta_l^\\prime}+B_w\\overline{w^\\prime q_t^\\prime} \\ \\ \\ \\ \\ \\ \\ \\ \\ \\ \\ \\ \\ \\ \\ \\ \\ \\ \\ \\ \\ \\ (2),\\\\[5mm]$$\n",
    "\n",
    "\n",
    "where $A_d=1+0.61\\overline{q_v}$ and $B_d=0.61\\overline{\\theta}$,\n",
    "\n",
    "and\n",
    "\n",
    "$$\\begin{aligned}\n",
    "&A_w=\\frac{1+\\frac{\\overline{q_s}}{\\epsilon}-\\overline{q_t}+\\frac{\\overline{\\theta}}{\\epsilon}\\left(\\frac{dq_s}{dT}\\right)}{1+\\frac{L_v}{c_p}\\left(\\frac{dq_s}{dT}\\right)},\\\\[2mm]\n",
    "&B_w=A_w\\left(\\frac{L_v}{c_p}\\right)-\\overline{\\theta}.\n",
    "\\end{aligned}\\\\[5mm]$$\n"
   ]
  },
  {
   "cell_type": "markdown",
   "metadata": {},
   "source": [
    "- Starting with the definition of $T_v$ (Stull equation 1.5.1a) derive equation 5.15 (p. 51) assuming constant pressure.\n",
    "\n",
    "- Hand in a notebook that uses equations 5.18,  5.29 and 5.30 to evaluate $A_d$, $B_d$, $A_w$ and $B_w$ at a pressure of 900 hPa, temperature of 280 K, $q_s$ = 7 g/kg, $L_v$ = $2.485 \\times 10^{6}$ J/kg, $R_v$ = 461.5 J/kg/K, $q_v$ = $q_s$.\n",
    "\n"
   ]
  },
  {
   "cell_type": "code",
   "execution_count": 2,
   "metadata": {},
   "outputs": [
    {
     "name": "stdout",
     "output_type": "stream",
     "text": [
      "adding /Users/phil/repos/atsc500 to sys.path\n",
      "(1.0042215322495982, 176.06215918335454)\n",
      "(0.5629729935907634, 1104.7877416799536)\n"
     ]
    }
   ],
   "source": [
    "from add_path import add_path\n",
    "add_path()\n",
    "\n",
    "def calc_w(theta, qv, press):\n",
    "    \"\"\"\n",
    "    Parameters\n",
    "    ----------\n",
    "    \n",
    "    theta: float\n",
    "       potential temperature (K)\n",
    "    \n",
    "    qv: float\n",
    "       saturation mixing ratio (kg/kg)\n",
    "       \n",
    "    press: float\n",
    "       pressure (kPa)\n",
    "       \n",
    "    Returns\n",
    "    -------\n",
    "    \n",
    "    Aw, Bw: (floats)\n",
    "       buoyancy flux coefficients assuming saturation\n",
    "       \n",
    "    \"\"\"\n",
    "    epsilon_i = 0.61\n",
    "    epsilon = 1/(1 + epsilon_i)\n",
    "    P0 = 100 # kPa\n",
    "    T = theta/((P0/press)**(0.286))\n",
    "    Lv = 2.485e6\n",
    "    Rv = 461.5\n",
    "    cp = 1004\n",
    "    dqdt = (qv*Lv)/(Rv*T**2)\n",
    "    Aw = (1 + qv/epsilon - qv + theta/epsilon*dqdt)/(1+Lv/cp*dqdt)\n",
    "    Bw = Aw*(Lv/cp) - theta\n",
    "    return Aw,Bw\n",
    "\n",
    "def calc_d(theta, qv):\n",
    "    \"\"\"\n",
    "    Parameters\n",
    "    ----------\n",
    "    \n",
    "    theta: float\n",
    "       potential temperature (K)\n",
    "    \n",
    "    qv: float\n",
    "       saturation mixing ratio (kg/kg)\n",
    "       \n",
    "    Returns\n",
    "    -------\n",
    "    \n",
    "    Ad, Bd: (floats)\n",
    "       buoyancy flux coefficients assuming subsaturation\n",
    "    \"\"\"\n",
    "    \n",
    "    epsilon_i = 0.61\n",
    "    Ad = 1 + epsilon_i*qv\n",
    "    Bd = epsilon_i*theta\n",
    "    return Ad,Bd\n",
    "\n",
    "\n",
    "from a500.thermo.thermfuncs import find_theta, find_rs\n",
    "press=90.  #kPa\n",
    "Temp = 280. #K\n",
    "theta = find_theta(Temp,press)\n",
    "qv = find_rs(Temp,press)\n",
    "print(calc_d(theta,qv))\n",
    "print(calc_w(theta,qv,press))"
   ]
  },
  {
   "cell_type": "code",
   "execution_count": 8,
   "metadata": {},
   "outputs": [
    {
     "name": "stdout",
     "output_type": "stream",
     "text": [
      "adding /Users/phil/repos/atsc500 to sys.path\n",
      "0.006878545461638349\n",
      "288.62649046451565\n",
      "the surface dew point temp is:  281.7179908997351\n",
      "the LCL is 88.45 kPa\n",
      "{'T': 277.1442866562899, 'RL': 0.000615171037086892, 'X': 1, 'RV': 0.006384828962913108}\n"
     ]
    },
    {
     "name": "stderr",
     "output_type": "stream",
     "text": [
      "/Users/phil/ma36/lib/python3.6/site-packages/ipykernel_launcher.py:37: DeprecationWarning: object of type <class 'float'> cannot be safely interpreted as an integer.\n"
     ]
    }
   ],
   "source": [
    "import numpy as np\n",
    "from add_path import add_path\n",
    "add_path()\n",
    "\n",
    "from a500.thermo import thermfuncs as tf\n",
    "import pandas as pd\n",
    "\n",
    "Temp=280. #K\n",
    "press=90. #kPa\n",
    "#\n",
    "# find the saturation mixing ratio and potential temp from the temperature and pressure\n",
    "#\n",
    "print(tf.qs_tp(Temp,press))\n",
    "print(tf.theta(Temp,press))\n",
    "#\n",
    "# find the dew point temperature and the lifting condensation level\n",
    "#\n",
    "psurf=100.  #kPa\n",
    "Tsurf=290.\n",
    "qvap=7.e-3  #kg/kg\n",
    "Tdew = tf.tmr(qvap,psurf)\n",
    "print('the surface dew point temp is: ',Tdew)\n",
    "LCL = tf.LCL(Tdew,Tsurf,psurf)\n",
    "print('the LCL is {:5.2f} kPa'.format(LCL))\n",
    "\n",
    "#\n",
    "# find thetal \n",
    "#\n",
    "thetal = tf.alt_thetal(psurf,Tsurf,qvap)\n",
    "#\n",
    "# invert thetal for temperature, vapor, liquid -- uos means \"unsaturated or saturated\"\n",
    "#\n",
    "print(tf.t_uos_thetal(thetal,qvap,80.))\n",
    "#\n",
    "# make a sounding\n",
    "#\n",
    "press_levs=np.linspace(80,100.,20.)\n",
    "press_levs=press_levs[::-1]\n",
    "sounding=[]\n",
    "for press in press_levs:\n",
    "    sounding.append(tf.t_uos_thetal(thetal,qvap,press))\n",
    "    \n",
    "df_sounding=pd.DataFrame.from_records(sounding)\n"
   ]
  },
  {
   "cell_type": "code",
   "execution_count": 7,
   "metadata": {},
   "outputs": [
    {
     "data": {
      "image/png": "[encoded data removed]",
      "text/plain": [
       "<matplotlib.figure.Figure at 0x15110a4048>"
      ]
     },
     "metadata": {},
     "output_type": "display_data"
    }
   ],
   "source": [
    "from matplotlib import pyplot as plt\n",
    "%matplotlib inline\n",
    "fig,(ax0,ax1) = plt.subplots(1,2,figsize=(12,8))\n",
    "ax0.plot(df_sounding['RV']*1.e3,press_levs)\n",
    "ax0.invert_yaxis()\n",
    "ax1.plot(df_sounding['RL']*1.e3,press_levs)\n",
    "ax1.invert_yaxis()\n",
    "ax0.set(title='vapor mixing ratio',xlabel='qv (g/kg)',ylabel='pressure (kPa)')\n",
    "ax1.set(title='liquid mixing ratio',xlabel='ql (g/kg)',ylabel='pressure (kPa)');"
   ]
  },
  {
   "cell_type": "code",
   "execution_count": null,
   "metadata": {},
   "outputs": [],
   "source": []
  }
 ],
 "metadata": {
  "kernelspec": {
   "display_name": "Python 3",
   "language": "python",
   "name": "python3"
  },
  "language_info": {
   "codemirror_mode": {
    "name": "ipython",
    "version": 3
   },
   "file_extension": ".py",
   "mimetype": "text/x-python",
   "name": "python",
   "nbconvert_exporter": "python",
   "pygments_lexer": "ipython3",
   "version": "3.6.4"
  },
  "toc": {
   "nav_menu": {},
   "number_sections": true,
   "sideBar": false,
   "skip_h1_title": false,
   "toc_cell": true,
   "toc_position": {},
   "toc_section_display": "block",
   "toc_window_display": false
  }
 },
 "nbformat": 4,
 "nbformat_minor": 2
}
