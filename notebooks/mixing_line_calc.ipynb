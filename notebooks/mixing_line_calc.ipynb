{
 "cells": [
  {
   "cell_type": "markdown",
   "metadata": {
    "toc": true
   },
   "source": [
    "<h1>Table of Contents<span class=\"tocSkip\"></span></h1>\n",
    "<div class=\"toc\" style=\"margin-top: 1em;\"><ul class=\"toc-item\"><li><span><a href=\"#Supress-autoscrolling\" data-toc-modified-id=\"Supress-autoscrolling-1\"><span class=\"toc-item-num\">1&nbsp;&nbsp;</span>Supress autoscrolling</a></span></li><li><span><a href=\"#Write-out-a-single-sounding-to-a-csv-file-for-future-work\" data-toc-modified-id=\"Write-out-a-single-sounding-to-a-csv-file-for-future-work-2\"><span class=\"toc-item-num\">2&nbsp;&nbsp;</span>Write out a single sounding to a csv file for future work</a></span></li><li><span><a href=\"#turn-off-log(0)-warning\" data-toc-modified-id=\"turn-off-log(0)-warning-3\"><span class=\"toc-item-num\">3&nbsp;&nbsp;</span>turn off log(0) warning</a></span></li><li><span><a href=\"#find-the-$\\theta_{es}$-of-the--LCL\" data-toc-modified-id=\"find-the-$\\theta_{es}$-of-the--LCL-4\"><span class=\"toc-item-num\">4&nbsp;&nbsp;</span>find the $\\theta_{es}$ of the  LCL</a></span><ul class=\"toc-item\"><li><span><a href=\"#What-is-the-LCL-of-this-air?\" data-toc-modified-id=\"What-is-the-LCL-of-this-air?-4.1\"><span class=\"toc-item-num\">4.1&nbsp;&nbsp;</span>What is the LCL of this air?</a></span></li></ul></li><li><span><a href=\"#Use-the-new-routine-tinvert_thetae-to-rootfind-the-mixture-temperature\" data-toc-modified-id=\"Use-the-new-routine-tinvert_thetae-to-rootfind-the-mixture-temperature-5\"><span class=\"toc-item-num\">5&nbsp;&nbsp;</span>Use the new routine tinvert_thetae to rootfind the mixture temperature</a></span><ul class=\"toc-item\"><li><span><a href=\"#find-the-density-of-100-mixtures-of-cloud-and-environment-at-600-hPa\" data-toc-modified-id=\"find-the-density-of-100-mixtures-of-cloud-and-environment-at-600-hPa-5.1\"><span class=\"toc-item-num\">5.1&nbsp;&nbsp;</span>find the density of 100 mixtures of cloud and environment at 600 hPa</a></span></li></ul></li></ul></div>"
   ]
  },
  {
   "cell_type": "markdown",
   "metadata": {},
   "source": [
    "# Supress autoscrolling"
   ]
  },
  {
   "cell_type": "code",
   "execution_count": 1,
   "metadata": {},
   "outputs": [
    {
     "data": {
      "application/javascript": [
       "IPython.OutputArea.prototype._should_scroll = function(lines) {\n",
       "    return false;\n",
       "}"
      ],
      "text/plain": [
       "<IPython.core.display.Javascript object>"
      ]
     },
     "metadata": {},
     "output_type": "display_data"
    }
   ],
   "source": [
    "%%javascript\n",
    "IPython.OutputArea.prototype._should_scroll = function(lines) {\n",
    "    return false;\n",
    "}"
   ]
  },
  {
   "cell_type": "code",
   "execution_count": 2,
   "metadata": {},
   "outputs": [],
   "source": [
    "import numpy as np\n",
    "import pandas as pd\n",
    "from pprint import pformat\n",
    "import numpy as np\n",
    "import json\n",
    "\n",
    "from a500.thermo.constants import constants as c\n",
    "from a500.thermo.thermlib import convertSkewToTemp, convertTempToSkew\n",
    "from a500.skewT.fullskew import makeSkewWet,find_corners,make_default_labels"
   ]
  },
  {
   "cell_type": "code",
   "execution_count": 3,
   "metadata": {},
   "outputs": [],
   "source": [
    "from a500.soundings.wyominglib import write_soundings, read_soundings\n",
    "from matplotlib import pyplot as plt"
   ]
  },
  {
   "cell_type": "markdown",
   "metadata": {},
   "source": [
    "# Write out a single sounding to a csv file for future work\n",
    "\n",
    "set get_data=True the first time through, then False for subsequent runs with the stored sounding in save_sounding.csv and metada.json"
   ]
  },
  {
   "cell_type": "code",
   "execution_count": 4,
   "metadata": {
    "scrolled": true
   },
   "outputs": [
    {
     "name": "stdout",
     "output_type": "stream",
     "text": [
      "684502\n",
      "header is:  72340 LZK Little Rock Observations at 00Z 01 Jul 2012\n",
      "here is the day:  120701\n",
      "here is the day:  120701\n",
      "here is the day:  120702\n",
      "here is the day:  120702\n",
      "here is the day:  120703\n",
      "here is the day:  120703\n",
      "here is the day:  120704\n",
      "here is the day:  120704\n",
      "here is the day:  120705\n",
      "here is the day:  120705\n",
      "here is the day:  120706\n",
      "here is the day:  120706\n",
      "here is the day:  120707\n",
      "here is the day:  120707\n",
      "here is the day:  120708\n",
      "here is the day:  120708\n",
      "here is the day:  120709\n",
      "here is the day:  120709\n",
      "here is the day:  120710\n",
      "here is the day:  120710\n",
      "here is the day:  120711\n",
      "here is the day:  120711\n",
      "here is the day:  120712\n",
      "here is the day:  120712\n",
      "here is the day:  120713\n",
      "here is the day:  120713\n",
      "here is the day:  120714\n",
      "here is the day:  120714\n",
      "here is the day:  120715\n",
      "here is the day:  120715\n",
      "here is the day:  120716\n",
      "here is the day:  120716\n",
      "here is the day:  120717\n",
      "here is the day:  120717\n",
      "here is the day:  120718\n",
      "here is the day:  120718\n",
      "here is the day:  120719\n",
      "here is the day:  120719\n",
      "here is the day:  120720\n",
      "here is the day:  120720\n",
      "here is the day:  120721\n",
      "here is the day:  120721\n",
      "here is the day:  120722\n",
      "here is the day:  120722\n",
      "here is the day:  120723\n",
      "here is the day:  120723\n",
      "here is the day:  120724\n",
      "here is the day:  120724\n",
      "here is the day:  120725\n",
      "here is the day:  120725\n",
      "here is the day:  120726\n",
      "here is the day:  120726\n",
      "here is the day:  120727\n",
      "here is the day:  120727\n",
      "here is the day:  120728\n",
      "here is the day:  120728\n",
      "here is the day:  120729\n",
      "here is the day:  120729\n",
      "here is the day:  120730\n",
      "files written to littlerock\n",
      "location: 72340 LZK Little Rock\n"
     ]
    }
   ],
   "source": [
    "get_data=True\n",
    "metafile='metadata.json'\n",
    "soundingfile='save_sounding.csv'\n",
    "if get_data:\n",
    "    values=dict(region='naconf',year='2012',month='7',start='0100',stop='3000',station='72340')\n",
    "    write_soundings(values, 'littlerock')\n",
    "    soundings= read_soundings('littlerock')\n",
    "    the_time=(2012,7,17,0)\n",
    "    sounding=soundings['sounding_dict'][the_time]\n",
    "    sounding.to_csv(soundingfile)\n",
    "    title_string=soundings['attributes']['header']\n",
    "    index=title_string.find(' Observations at')\n",
    "    location=title_string[:index]\n",
    "    print(f'location: {location}')\n",
    "    units=soundings['attributes']['units'].split(';')\n",
    "    units_dict={}\n",
    "    for count,var in enumerate(sounding.columns[1:]):\n",
    "        units_dict[var]=units[count]\n",
    "    soundings['attributes']['location']=location\n",
    "    soundings['attributes']['units']=units\n",
    "    soundings['attributes']['time']=the_time\n",
    "    soundings['attributes']['history']='written by mixing_line_calc'\n",
    "    with open(metafile,'w') as outfile:\n",
    "        json.dump(soundings['attributes'],outfile,indent=4)\n",
    "    attributes=soundings['attributes']\n",
    "else:\n",
    "    sounding = pd.read_csv(soundingfile)\n",
    "    with open(metafile,'r') as infile:\n",
    "        attributes=json.load(infile)\n",
    "        \n",
    "    "
   ]
  },
  {
   "cell_type": "markdown",
   "metadata": {},
   "source": [
    "# turn off log(0) warning"
   ]
  },
  {
   "cell_type": "code",
   "execution_count": 5,
   "metadata": {},
   "outputs": [],
   "source": [
    "np.seterr(all='ignore');"
   ]
  },
  {
   "cell_type": "markdown",
   "metadata": {},
   "source": [
    "# find the $\\theta_{es}$ of the  LCL"
   ]
  },
  {
   "cell_type": "code",
   "execution_count": 6,
   "metadata": {},
   "outputs": [],
   "source": [
    "from a405.thermo.thermlib import find_Tmoist,find_thetaep,find_rsat,find_Tv,find_lcl,find_thetaes,find_thetaet\n",
    "#\n",
    "# find thetae of the surface air, at index 0\n",
    "#\n",
    "sfc_press,sfc_temp,sfc_td =[sounding[key][0] for key in ['pres','temp','dwpt']]\n",
    "#\n",
    "sfc_press,sfc_temp,sfc_td = sfc_press*100.,sfc_temp+c.Tc,sfc_td+c.Tc"
   ]
  },
  {
   "cell_type": "markdown",
   "metadata": {},
   "source": [
    "## What is the LCL of this air?"
   ]
  },
  {
   "cell_type": "code",
   "execution_count": 7,
   "metadata": {},
   "outputs": [],
   "source": [
    "Tlcl, plcl=find_lcl(sfc_td, sfc_temp,sfc_press)"
   ]
  },
  {
   "cell_type": "code",
   "execution_count": 8,
   "metadata": {},
   "outputs": [
    {
     "name": "stdout",
     "output_type": "stream",
     "text": [
      "found Tlcl=294.4007025615702 K, plcl=87210.42355322924 Pa\n"
     ]
    }
   ],
   "source": [
    "print(f'found Tlcl={Tlcl} K, plcl={plcl} Pa')"
   ]
  },
  {
   "cell_type": "code",
   "execution_count": 9,
   "metadata": {},
   "outputs": [],
   "source": [
    "#  convert to mks and find surface rv and thetae\n",
    "#\n",
    "sfc_rvap = find_rsat(sfc_td,sfc_press)\n",
    "lcl_rvap = find_rsat(Tlcl,plcl)\n",
    "sfc_thetae=find_thetaes(Tlcl,plcl)\n",
    "press=sounding['pres'].values*100.\n",
    "#\n",
    "# find the index for 100 hPa pressure -- searchsorted requires\n",
    "# the pressure array to be increasing, so flip it for the search,\n",
    "# then flip the index.  Above 100 hPa thetae goes bananas, so\n",
    "# so trim so we only have good values\n",
    "#\n",
    "toplim=len(press) - np.searchsorted(press[::-1],.7e4)\n",
    "clipped_press=press[:toplim]\n",
    "#\n",
    "# find temps along that adiabat\n",
    "#\n",
    "adia_temps= np.array([find_Tmoist(sfc_thetae,the_press) \n",
    "                      for the_press in clipped_press])\n",
    "#\n",
    "# find the liquid water content for the adiabat by subtracting\n",
    "# the vapor mixing ratio from the sfc mixing ratio\n",
    "#\n",
    "adia_rvaps = find_rsat(adia_temps,clipped_press)\n",
    "adia_rls = sfc_rvap - adia_rvaps\n",
    "env_temps = (sounding['temp'].values + c.Tc)[:toplim]\n",
    "env_Td = (sounding['dwpt'].values + c.Tc)[:toplim]\n",
    "height = sounding['hght'].values[:toplim]\n",
    "pairs = zip(env_Td,clipped_press)\n",
    "env_rvaps= np.array([find_rsat(td,the_press) for td,the_press in pairs])\n",
    "env_Tv = find_Tv(env_temps,env_rvaps)\n",
    "adia_Tv = find_Tv(adia_temps,adia_rvaps,adia_rls)\n",
    "press_hPa = clipped_press*1.e-2"
   ]
  },
  {
   "cell_type": "markdown",
   "metadata": {},
   "source": [
    "# Use the new routine tinvert_thetae to rootfind the mixture temperature"
   ]
  },
  {
   "cell_type": "code",
   "execution_count": 10,
   "metadata": {},
   "outputs": [],
   "source": [
    "from a405.thermo.thermlib import tinvert_thetae"
   ]
  },
  {
   "cell_type": "markdown",
   "metadata": {},
   "source": [
    "## find the density of 100 mixtures of cloud and environment at 600 hPa"
   ]
  },
  {
   "cell_type": "code",
   "execution_count": 11,
   "metadata": {},
   "outputs": [
    {
     "name": "stdout",
     "output_type": "stream",
     "text": [
      "pressure,   580 hPa  dewpoint   268 K , temp   274 K\n",
      "cloud thetae 356.820 K, env_thetae 333.560 K\n"
     ]
    },
    {
     "data": {
      "image/png": "[encoded data removed]",
      "text/plain": [
       "<matplotlib.figure.Figure at 0x114676470>"
      ]
     },
     "metadata": {},
     "output_type": "display_data"
    }
   ],
   "source": [
    "mix_level=np.searchsorted(clipped_press[::-1],600.e2)\n",
    "index=len(clipped_press) - mix_level\n",
    "mix_press = clipped_press[index]\n",
    "print('pressure, {:5.3g} hPa  dewpoint {:5.3g} K , temp {:5.3g} K'\\\n",
    "     .format(clipped_press[index]*1.e-2,env_Td[index],env_temps[index]))\n",
    "env_rvap = env_rvaps[index]\n",
    "env_thetae = find_thetaet(env_Td[index],env_rvaps[index],env_temps[index],\\\n",
    "                          clipped_press[index])\n",
    "print(f'cloud thetae {sfc_thetae:5.3f} K, env_thetae {env_thetae:5.3f} K')\n",
    "#\n",
    "# make 100 mixtures\n",
    "#\n",
    "fenv=np.linspace(0,1,100)\n",
    "logthetae_mix = fenv*np.log(env_thetae) + (1 - fenv)*np.log(sfc_thetae)\n",
    "rTot_mix = fenv*env_rvap  + (1 - fenv)*sfc_rvap\n",
    "thetae_mix = np.exp(logthetae_mix)\n",
    "pairs = zip(thetae_mix,rTot_mix)\n",
    "Tvlist = []\n",
    "#\n",
    "# find the virtual temperature for each mixture\n",
    "#\n",
    "for thetae,rtot in pairs:\n",
    "    temp,rv,rl = tinvert_thetae(thetae,rtot,mix_press)\n",
    "    Tvlist.append(find_Tv(temp,rv,rl))\n",
    "fig,ax = plt.subplots(1,1,figsize=(10,8))\n",
    "ax.plot(fenv,Tvlist)\n",
    "title='cloud environment mixing at {:5.2f} hPa'.format(clipped_press[index]*1.e-2)\n",
    "out=ax.set(xlabel='fraction of environmental air',ylabel='Mixture Tv (K)',title=title)\n",
    "ax.grid(True,which='both')"
   ]
  },
  {
   "cell_type": "code",
   "execution_count": null,
   "metadata": {},
   "outputs": [],
   "source": []
  }
 ],
 "metadata": {
  "kernelspec": {
   "display_name": "Python 3",
   "language": "python",
   "name": "python3"
  },
  "language_info": {
   "codemirror_mode": {
    "name": "ipython",
    "version": 3
   },
   "file_extension": ".py",
   "mimetype": "text/x-python",
   "name": "python",
   "nbconvert_exporter": "python",
   "pygments_lexer": "ipython3",
   "version": "3.6.4"
  },
  "toc": {
   "nav_menu": {},
   "number_sections": true,
   "sideBar": false,
   "skip_h1_title": false,
   "toc_cell": true,
   "toc_position": {},
   "toc_section_display": "block",
   "toc_window_display": false
  }
 },
 "nbformat": 4,
 "nbformat_minor": 1
}
