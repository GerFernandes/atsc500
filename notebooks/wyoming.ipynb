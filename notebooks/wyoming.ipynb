{
 "cells": [
  {
   "cell_type": "markdown",
   "metadata": {
    "toc": true
   },
   "source": [
    "<h1>Table of Contents<span class=\"tocSkip\"></span></h1>\n",
    "<div class=\"toc\" style=\"margin-top: 1em;\"><ul class=\"toc-item\"><li><span><a href=\"#Demonstrate-the-sounding-retrieval-code\" data-toc-modified-id=\"Demonstrate-the-sounding-retrieval-code-1\"><span class=\"toc-item-num\">1&nbsp;&nbsp;</span>Demonstrate the sounding retrieval code</a></span></li><li><span><a href=\"#Read-the-soundings-back-into-python\" data-toc-modified-id=\"Read-the-soundings-back-into-python-2\"><span class=\"toc-item-num\">2&nbsp;&nbsp;</span>Read the soundings back into python</a></span></li><li><span><a href=\"#Examine-the-nested-dictionaries-inside-soundings\" data-toc-modified-id=\"Examine-the-nested-dictionaries-inside-soundings-3\"><span class=\"toc-item-num\">3&nbsp;&nbsp;</span>Examine the nested dictionaries inside soundings</a></span></li><li><span><a href=\"#Get-the-first-sounding\" data-toc-modified-id=\"Get-the-first-sounding-4\"><span class=\"toc-item-num\">4&nbsp;&nbsp;</span>Get the first sounding</a></span></li><li><span><a href=\"#Plot-it\" data-toc-modified-id=\"Plot-it-5\"><span class=\"toc-item-num\">5&nbsp;&nbsp;</span>Plot it</a></span></li></ul></div>"
   ]
  },
  {
   "cell_type": "markdown",
   "metadata": {},
   "source": [
    "# Demonstrate the sounding retrieval code"
   ]
  },
  {
   "cell_type": "code",
   "execution_count": 1,
   "metadata": {},
   "outputs": [],
   "source": [
    "from a500.soundings.wyominglib import write_soundings, read_soundings\n",
    "from matplotlib import pyplot as plt"
   ]
  },
  {
   "cell_type": "code",
   "execution_count": 2,
   "metadata": {},
   "outputs": [],
   "source": [
    "#!pip install bs4"
   ]
  },
  {
   "cell_type": "code",
   "execution_count": 3,
   "metadata": {},
   "outputs": [],
   "source": [
    "#!conda list"
   ]
  },
  {
   "cell_type": "markdown",
   "metadata": {},
   "source": [
    "Ask for north american soundings between July 1, 2017 00Z and July 18, 2017 00Z for\n",
    "Dodge City, Kansas  from http://weather.uwyo.edu/upperair/sounding.html"
   ]
  },
  {
   "cell_type": "code",
   "execution_count": 4,
   "metadata": {},
   "outputs": [],
   "source": [
    "values=dict(region='naconf',year='2017',month='7',start='0100',stop='1800',station='72451')"
   ]
  },
  {
   "cell_type": "markdown",
   "metadata": {},
   "source": [
    "Write the soundings into a folder called soundingdir"
   ]
  },
  {
   "cell_type": "code",
   "execution_count": 5,
   "metadata": {},
   "outputs": [
    {
     "name": "stdout",
     "output_type": "stream",
     "text": [
      "447359\n",
      "header is:  72451 DDC Dodge City(Awos) Observations at 00Z 01 Jul 2017\n",
      "here is the day:  170701\n",
      "here is the day:  170701\n",
      "here is the day:  170702\n",
      "here is the day:  170702\n",
      "here is the day:  170703\n",
      "here is the day:  170703\n",
      "here is the day:  170704\n",
      "here is the day:  170704\n",
      "here is the day:  170705\n",
      "here is the day:  170705\n",
      "here is the day:  170706\n",
      "here is the day:  170706\n",
      "here is the day:  170707\n",
      "here is the day:  170707\n",
      "here is the day:  170708\n",
      "here is the day:  170708\n",
      "here is the day:  170709\n",
      "here is the day:  170709\n",
      "here is the day:  170710\n",
      "here is the day:  170710\n",
      "here is the day:  170711\n",
      "here is the day:  170711\n",
      "here is the day:  170712\n",
      "here is the day:  170712\n",
      "here is the day:  170713\n",
      "here is the day:  170713\n",
      "here is the day:  170714\n",
      "here is the day:  170714\n",
      "here is the day:  170715\n",
      "here is the day:  170715\n",
      "here is the day:  170716\n",
      "here is the day:  170716\n",
      "here is the day:  170717\n",
      "here is the day:  170717\n",
      "here is the day:  170718\n",
      "files written to soundingdir\n"
     ]
    }
   ],
   "source": [
    "write_soundings(values, 'soundingdir')"
   ]
  },
  {
   "cell_type": "markdown",
   "metadata": {},
   "source": [
    "# Read the soundings back into python"
   ]
  },
  {
   "cell_type": "code",
   "execution_count": 6,
   "metadata": {},
   "outputs": [],
   "source": [
    "soundings= read_soundings('soundingdir')"
   ]
  },
  {
   "cell_type": "markdown",
   "metadata": {},
   "source": [
    "# Examine the nested dictionaries inside soundings"
   ]
  },
  {
   "cell_type": "code",
   "execution_count": 7,
   "metadata": {},
   "outputs": [
    {
     "name": "stdout",
     "output_type": "stream",
     "text": [
      "soundings keys: ['filelist', 'attributes', 'input_args', 'file_dict', 'sounding_dict']\n",
      " soundings attributes: ['units', 'site_id', 'latitude', 'longitude', 'elevation', 'header', 'history']\n",
      " sounding_dict keys: [(2017, 7, 1, 0), (2017, 7, 1, 12), (2017, 7, 2, 0), (2017, 7, 2, 12), (2017, 7, 3, 0), (2017, 7, 3, 12), (2017, 7, 4, 0), (2017, 7, 4, 12), (2017, 7, 5, 0), (2017, 7, 5, 12), (2017, 7, 6, 0), (2017, 7, 6, 12), (2017, 7, 7, 0), (2017, 7, 7, 12), (2017, 7, 8, 0), (2017, 7, 8, 12), (2017, 7, 9, 0), (2017, 7, 9, 12), (2017, 7, 10, 0), (2017, 7, 10, 12), (2017, 7, 11, 0), (2017, 7, 11, 12), (2017, 7, 12, 0), (2017, 7, 12, 12), (2017, 7, 13, 0), (2017, 7, 13, 12), (2017, 7, 14, 0), (2017, 7, 14, 12), (2017, 7, 15, 0), (2017, 7, 15, 12), (2017, 7, 16, 0), (2017, 7, 16, 12), (2017, 7, 17, 0), (2017, 7, 17, 12), (2017, 7, 18, 0)]\n"
     ]
    }
   ],
   "source": [
    "print((f'soundings keys: {list(soundings.keys())}\\n'),\n",
    "      (f'soundings attributes: {list(soundings[\"attributes\"])}\\n'),\n",
    "      (f'sounding_dict keys: {list(soundings[\"sounding_dict\"].keys())}'))"
   ]
  },
  {
   "cell_type": "markdown",
   "metadata": {},
   "source": [
    "# Get the first sounding"
   ]
  },
  {
   "cell_type": "code",
   "execution_count": 8,
   "metadata": {},
   "outputs": [
    {
     "name": "stdout",
     "output_type": "stream",
     "text": [
      "Index(['Unnamed: 0', 'pres', 'hght', 'temp', 'dwpt', 'relh', 'mixr', 'drct',\n",
      "       'sknt', 'thta', 'thte', 'thtv'],\n",
      "      dtype='object')\n"
     ]
    }
   ],
   "source": [
    "target_date=list(soundings['sounding_dict'].keys())[0]\n",
    "the_sounding = soundings['sounding_dict'][target_date]\n",
    "print(the_sounding.columns)"
   ]
  },
  {
   "cell_type": "markdown",
   "metadata": {},
   "source": [
    "# Plot it"
   ]
  },
  {
   "cell_type": "code",
   "execution_count": 9,
   "metadata": {},
   "outputs": [
    {
     "data": {
      "image/png": "[encoded data removed]",
      "text/plain": [
       "<matplotlib.figure.Figure at 0x11916b828>"
      ]
     },
     "metadata": {},
     "output_type": "display_data"
    }
   ],
   "source": [
    "%matplotlib inline\n",
    "m2km=1.e-3  #convert meters to km\n",
    "fig,ax=plt.subplots(1,1,figsize=(8,10))\n",
    "ax.plot(the_sounding['temp'],the_sounding['hght']*m2km,label='temp')\n",
    "ax.plot(the_sounding['dwpt'],the_sounding['hght']*m2km,label='dewpoint')\n",
    "ax.legend()\n",
    "out=ax.set(xlabel=\"temperature (K)\",ylabel=\"height (km)\",\n",
    "      title =\"First sounding\")\n",
    "ax.grid(True)"
   ]
  },
  {
   "cell_type": "code",
   "execution_count": null,
   "metadata": {},
   "outputs": [],
   "source": []
  }
 ],
 "metadata": {
  "kernelspec": {
   "display_name": "Python 3",
   "language": "python",
   "name": "python3"
  },
  "language_info": {
   "codemirror_mode": {
    "name": "ipython",
    "version": 3
   },
   "file_extension": ".py",
   "mimetype": "text/x-python",
   "name": "python",
   "nbconvert_exporter": "python",
   "pygments_lexer": "ipython3",
   "version": "3.6.4"
  },
  "toc": {
   "nav_menu": {},
   "number_sections": true,
   "sideBar": false,
   "skip_h1_title": false,
   "toc_cell": true,
   "toc_position": {},
   "toc_section_display": "block",
   "toc_window_display": false
  }
 },
 "nbformat": 4,
 "nbformat_minor": 2
}
