{
 "cells": [
  {
   "cell_type": "markdown",
   "metadata": {
    "toc": true
   },
   "source": [
    "<h1>Table of Contents<span class=\"tocSkip\"></span></h1>\n",
    "<div class=\"toc\" style=\"margin-top: 1em;\"><ul class=\"toc-item\"><li><span><a href=\"#Using-the-fft-to-compute-correlation\" data-toc-modified-id=\"Using-the-fft-to-compute-correlation-1\"><span class=\"toc-item-num\">1&nbsp;&nbsp;</span>Using the fft to compute correlation</a></span></li></ul></div>"
   ]
  },
  {
   "cell_type": "markdown",
   "metadata": {},
   "source": [
    "# Using the fft to compute correlation\n",
    "\n",
    "Below I use aircraft measurments of $\\theta$ and wvel taken at 25 Hz.  I compute the \n",
    "autocorrelation using numpy.correlate and numpy.fft and show they are identical, as we'd expect"
   ]
  },
  {
   "cell_type": "code",
   "execution_count": 1,
   "metadata": {},
   "outputs": [
    {
     "name": "stdout",
     "output_type": "stream",
     "text": [
      "trying http://clouds.eos.ubc.ca/~phil/docs/atsc500/data/aircraft.npz\n",
      "writing to: aircraft.npz\n",
      "writing temporary file aircraft.npz_tmp\n",
      "downloaded aircraft.npz\n",
      "size = 732584\n"
     ]
    }
   ],
   "source": [
    "from matplotlib import pyplot as plt\n",
    "from a500.utils.data_read import download\n",
    "plt.style.use('ggplot')\n",
    "import urllib\n",
    "import os\n",
    "download('aircraft.npz',root='http://clouds.eos.ubc.ca/~phil/docs/atsc500/data')"
   ]
  },
  {
   "cell_type": "code",
   "execution_count": null,
   "metadata": {},
   "outputs": [],
   "source": [
    "#http://stackoverflow.com/questions/643699/how-can-i-use-numpy-correlate-to-do-autocorrelation\n",
    "import numpy as np\n",
    "data = np.load('aircraft.npz')\n",
    "wvel=data['wvel'] - data['wvel'].mean()\n",
    "theta=data['theta'] - data['theta'].mean()\n",
    "autocorr = np.correlate(wvel,wvel,mode='full')\n",
    "auto_data = autocorr[wvel.size:]\n",
    "ticks=np.arange(0,wvel.size)\n",
    "ticks=ticks/25.\n",
    "fig,ax = plt.subplots(1,1,figsize=(10,8))\n",
    "ax.set(xlabel='lag (seconds)',title='autocorrelation of wvel using numpy.correlate')\n",
    "out=ax.plot(ticks[:300],auto_data[:300])\n"
   ]
  },
  {
   "cell_type": "code",
   "execution_count": null,
   "metadata": {},
   "outputs": [],
   "source": [
    "import numpy.fft as fft\n",
    "the_fft = fft.fft(wvel)\n",
    "auto_fft = the_fft*np.conj(the_fft)\n",
    "auto_fft = np.real(fft.ifft(auto_fft))\n",
    "\n",
    "fig,ax = plt.subplots(1,1,figsize=(10,8))\n",
    "ax.plot(ticks[:300],auto_fft[:300])\n",
    "out=ax.set(xlabel='lag (seconds)',title='autocorrelation using fft')"
   ]
  },
  {
   "cell_type": "code",
   "execution_count": null,
   "metadata": {
    "collapsed": true
   },
   "outputs": [],
   "source": []
  }
 ],
 "metadata": {
  "kernelspec": {
   "display_name": "Python 3",
   "language": "python",
   "name": "python3"
  },
  "language_info": {
   "codemirror_mode": {
    "name": "ipython",
    "version": 3
   },
   "file_extension": ".py",
   "mimetype": "text/x-python",
   "name": "python",
   "nbconvert_exporter": "python",
   "pygments_lexer": "ipython3",
   "version": "3.6.4"
  },
  "toc": {
   "nav_menu": {},
   "number_sections": true,
   "sideBar": false,
   "skip_h1_title": false,
   "toc_cell": true,
   "toc_position": {},
   "toc_section_display": "block",
   "toc_window_display": false
  }
 },
 "nbformat": 4,
 "nbformat_minor": 1
}
