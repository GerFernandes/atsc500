{
 "cells": [
  {
   "cell_type": "markdown",
   "metadata": {
    "toc": true
   },
   "source": [
    "<h1>Table of Contents<span class=\"tocSkip\"></span></h1>\n",
    "<div class=\"toc\" style=\"margin-top: 1em;\"><ul class=\"toc-item\"><li><span><a href=\"#Stull-Ch.-2-problem-8\" data-toc-modified-id=\"Stull-Ch.-2-problem-8-1\"><span class=\"toc-item-num\">1&nbsp;&nbsp;</span>Stull Ch. 2 problem 8</a></span></li><li><span><a href=\"#Getting-started-with-vapor\" data-toc-modified-id=\"Getting-started-with-vapor-2\"><span class=\"toc-item-num\">2&nbsp;&nbsp;</span>Getting started with vapor</a></span></li><li><span><a href=\"#Calculate-the-horizontal-average-temperature\" data-toc-modified-id=\"Calculate-the-horizontal-average-temperature-3\"><span class=\"toc-item-num\">3&nbsp;&nbsp;</span>Calculate the horizontal average temperature</a></span><ul class=\"toc-item\"><li><span><a href=\"#Calculate-the-temperature-pertubation\" data-toc-modified-id=\"Calculate-the-temperature-pertubation-3.1\"><span class=\"toc-item-num\">3.1&nbsp;&nbsp;</span>Calculate the temperature pertubation</a></span></li></ul></li><li><span><a href=\"#Getting-started-with-vapor\" data-toc-modified-id=\"Getting-started-with-vapor-4\"><span class=\"toc-item-num\">4&nbsp;&nbsp;</span>Getting started with vapor</a></span></li></ul></div>"
   ]
  },
  {
   "cell_type": "markdown",
   "metadata": {},
   "source": [
    "# Stull Ch. 2 problem 8"
   ]
  },
  {
   "cell_type": "code",
   "execution_count": 10,
   "metadata": {},
   "outputs": [
    {
     "name": "stdout",
     "output_type": "stream",
     "text": [
      "net heating is   3.6 K/hour\n"
     ]
    }
   ],
   "source": [
    "cpd=1004.\n",
    "rho=1\n",
    "h_flux_bot=rho*0.2*cpd\n",
    "h_flux_top=rho*0.1*cpd\n",
    "net_heating=h_flux_bot-h_flux_top  #W/m^2\n",
    "delta_z=100  #meters\n",
    "total_mass=rho*delta_z  #kg/m^2\n",
    "dT_dt=net_heating/(total_mass*cpd)*3600 #K/hour  \n",
    "print('net heating is {:5.1f} K/hour'.format(dT_dt))"
   ]
  },
  {
   "cell_type": "markdown",
   "metadata": {},
   "source": [
    "# Getting started with vapor"
   ]
  },
  {
   "cell_type": "markdown",
   "metadata": {},
   "source": [
    "1.  Fetch the netcdf file tropical.nc from my webserver (50 Mbytes)"
   ]
  },
  {
   "cell_type": "code",
   "execution_count": 2,
   "metadata": {},
   "outputs": [
    {
     "name": "stdout",
     "output_type": "stream",
     "text": [
      "trying http://clouds.eos.ubc.ca/~phil/docs/atsc500/tropical_subset.nc\n",
      "writing to: tropical_subset.nc\n",
      "writing temporary file tropical_subset.nc_tmp\n",
      "downloaded tropical_subset.nc\n",
      "size = 52116281\n"
     ]
    }
   ],
   "source": [
    "from a500.utils.data_read import download\n",
    "the_root = \"http://clouds.eos.ubc.ca/~phil/docs/atsc500\"\n",
    "the_file =  \"tropical_subset.nc\"\n",
    "out=download(the_file,root=the_root)"
   ]
  },
  {
   "cell_type": "markdown",
   "metadata": {},
   "source": [
    "2.  Identify the file structure using ncdump"
   ]
  },
  {
   "cell_type": "code",
   "execution_count": 9,
   "metadata": {},
   "outputs": [
    {
     "name": "stdout",
     "output_type": "stream",
     "text": [
      "NetCDF Global Attributes:\r\n",
      "NetCDF dimension information:\r\n",
      "\tName: x\r\n",
      "\t\tsize: 100\r\n",
      "\t\ttype: dtype('float32')\r\n",
      "\t\tunits: 'm'\r\n",
      "\tName: y\r\n",
      "\t\tsize: 110\r\n",
      "\t\ttype: dtype('float32')\r\n",
      "\t\tunits: 'm'\r\n",
      "\tName: z\r\n",
      "\t\tsize: 112\r\n",
      "\t\ttype: dtype('float32')\r\n",
      "\t\tunits: 'm'\r\n",
      "\t\tlong_name: 'height'\r\n",
      "\tName: time\r\n",
      "\t\tsize: 1\r\n",
      "\t\ttype: dtype('float32')\r\n",
      "\t\tunits: 'd'\r\n",
      "\t\tlong_name: 'time'\r\n",
      "NetCDF variable information for group root:\r\n",
      "\tName: p\r\n",
      "\t\tdimensions: ('z',)\r\n",
      "\t\tsize: 112\r\n",
      "\t\ttype: dtype('float32')\r\n",
      "\t\tunits: 'mb'\r\n",
      "\t\tlong_name: 'pressure'\r\n",
      "\tName: U\r\n",
      "\t\tdimensions: ('time', 'z', 'y', 'x')\r\n",
      "\t\tsize: 1232000\r\n",
      "\t\ttype: dtype('float32')\r\n",
      "\t\tlong_name: 'X Wind Component'\r\n",
      "\t\tunits: 'm/s'\r\n",
      "\tName: V\r\n",
      "\t\tdimensions: ('time', 'z', 'y', 'x')\r\n",
      "\t\tsize: 1232000\r\n",
      "\t\ttype: dtype('float32')\r\n",
      "\t\tlong_name: 'Y Wind Component'\r\n",
      "\t\tunits: 'm/s'\r\n",
      "\tName: W\r\n",
      "\t\tdimensions: ('time', 'z', 'y', 'x')\r\n",
      "\t\tsize: 1232000\r\n",
      "\t\ttype: dtype('float32')\r\n",
      "\t\tlong_name: 'Z Wind Component'\r\n",
      "\t\tunits: 'm/s'\r\n",
      "\tName: PP\r\n",
      "\t\tdimensions: ('time', 'z', 'y', 'x')\r\n",
      "\t\tsize: 1232000\r\n",
      "\t\ttype: dtype('float32')\r\n",
      "\t\tlong_name: 'Pressure Perturbation'\r\n",
      "\t\tunits: 'Pa'\r\n",
      "\tName: TABS\r\n",
      "\t\tdimensions: ('time', 'z', 'y', 'x')\r\n",
      "\t\tsize: 1232000\r\n",
      "\t\ttype: dtype('float32')\r\n",
      "\t\tlong_name: 'Absolute Temperature'\r\n",
      "\t\tunits: 'K'\r\n",
      "\tName: QV\r\n",
      "\t\tdimensions: ('time', 'z', 'y', 'x')\r\n",
      "\t\tsize: 1232000\r\n",
      "\t\ttype: dtype('float32')\r\n",
      "\t\tlong_name: 'Water Vapor'\r\n",
      "\t\tunits: 'g/kg'\r\n",
      "\tName: QN\r\n",
      "\t\tdimensions: ('time', 'z', 'y', 'x')\r\n",
      "\t\tsize: 1232000\r\n",
      "\t\ttype: dtype('float32')\r\n",
      "\t\tlong_name: 'Non-precipitating Condensate (Water+Ice)'\r\n",
      "\t\tunits: 'g/kg'\r\n",
      "\tName: QP\r\n",
      "\t\tdimensions: ('time', 'z', 'y', 'x')\r\n",
      "\t\tsize: 1232000\r\n",
      "\t\ttype: dtype('float32')\r\n",
      "\t\tlong_name: 'Precipitating Water (Rain+Snow)'\r\n",
      "\t\tunits: 'g/kg'\r\n"
     ]
    }
   ],
   "source": [
    "!pyncdump tropical_subset.nc"
   ]
  },
  {
   "cell_type": "markdown",
   "metadata": {},
   "source": [
    "3.  Read a variable using the netCDF4 module:  http://unidata.github.io/netcdf4-python/"
   ]
  },
  {
   "cell_type": "code",
   "execution_count": 4,
   "metadata": {},
   "outputs": [
    {
     "name": "stdout",
     "output_type": "stream",
     "text": [
      "['x', 'y', 'z', 'time', 'p', 'U', 'V', 'W', 'PP', 'TABS', 'QV', 'QN', 'QP']\n",
      "(1, 112, 110, 100)\n",
      "(112, 110, 100)\n",
      "(112,)\n"
     ]
    }
   ],
   "source": [
    "from netCDF4 import Dataset\n",
    "#\n",
    "# the variables attribute returns a dictionary of variables\n",
    "#\n",
    "with Dataset('tropical_subset.nc','r') as nc_in:\n",
    "    print(list(nc_in.variables.keys()))\n",
    "    the_temp=nc_in.variables['TABS'][...]\n",
    "    print(the_temp.shape)\n",
    "    #\n",
    "    # remove the time dimension, since we only have one timestep\n",
    "    #\n",
    "    the_temp=the_temp.squeeze()\n",
    "    print(the_temp.shape)\n",
    "    the_height=nc_in.variables['z'][...]\n",
    "    print(the_height.shape)"
   ]
  },
  {
   "cell_type": "markdown",
   "metadata": {},
   "source": [
    "#Plotting three temperature profiles"
   ]
  },
  {
   "cell_type": "code",
   "execution_count": 5,
   "metadata": {},
   "outputs": [
    {
     "data": {
      "text/plain": [
       "[Text(0,0.5,'height (km)'),\n",
       " Text(0.5,0,'temperature (K)'),\n",
       " Text(0.5,1,'3 profiles')]"
      ]
     },
     "execution_count": 5,
     "metadata": {},
     "output_type": "execute_result"
    },
    {
     "data": {
      "image/png": "[encoded data removed]",
      "text/plain": [
       "<matplotlib.figure.Figure at 0x10a190710>"
      ]
     },
     "metadata": {},
     "output_type": "display_data"
    }
   ],
   "source": [
    "%matplotlib inline\n",
    "#\n",
    "# plot 3 arbitrary columns\n",
    "#\n",
    "from matplotlib import pyplot as plt\n",
    "meter2km=1.e-3\n",
    "random_xy=[(10,20),(80,40),(25,75)]\n",
    "fig,ax=plt.subplots(1,1)\n",
    "for x,y in random_xy:\n",
    "    temp_profile=the_temp[:,x,y]\n",
    "    ax.plot(temp_profile,the_height*meter2km)  \n",
    "ax.set(xlabel='temperature (K)',ylabel='height (km)',title='3 profiles')"
   ]
  },
  {
   "cell_type": "markdown",
   "metadata": {},
   "source": [
    "# Calculate the horizontal average temperature"
   ]
  },
  {
   "cell_type": "code",
   "execution_count": 6,
   "metadata": {},
   "outputs": [
    {
     "name": "stdout",
     "output_type": "stream",
     "text": [
      "(112, 110, 100)\n",
      "(112, 110)\n",
      "(112,)\n"
     ]
    }
   ],
   "source": [
    "print(the_temp.shape)\n",
    "xmean=the_temp.mean(axis=2)\n",
    "print(xmean.shape)\n",
    "xymean=xmean.mean(axis=1)\n",
    "print(xymean.shape)"
   ]
  },
  {
   "cell_type": "markdown",
   "metadata": {},
   "source": [
    "## Calculate the temperature pertubation"
   ]
  },
  {
   "cell_type": "code",
   "execution_count": 7,
   "metadata": {},
   "outputs": [
    {
     "data": {
      "text/plain": [
       "[Text(0,0.5,'height (km)'),\n",
       " Text(0.5,0,'temperature (K)'),\n",
       " Text(0.5,1,'3 perturbation profiles')]"
      ]
     },
     "execution_count": 7,
     "metadata": {},
     "output_type": "execute_result"
    },
    {
     "data": {
      "image/png": "[encoded data removed]",
      "text/plain": [
       "<matplotlib.figure.Figure at 0x10b95f240>"
      ]
     },
     "metadata": {},
     "output_type": "display_data"
    }
   ],
   "source": [
    "fig,ax=plt.subplots(1,1)\n",
    "for x,y in random_xy:\n",
    "    temp_profile=the_temp[:,x,y] - xymean\n",
    "    ax.plot(temp_profile,the_height*meter2km)  \n",
    "ax.set(xlabel='temperature (K)',ylabel='height (km)',title='3 perturbation profiles')"
   ]
  },
  {
   "cell_type": "markdown",
   "metadata": {},
   "source": [
    "# Getting started with vapor"
   ]
  },
  {
   "cell_type": "markdown",
   "metadata": {},
   "source": [
    "1. Install vapor per [these instructions](https://www.vapor.ucar.edu/docs/usage/getting-started-vapor)\n",
    "1. Download and unzip the following file:"
   ]
  },
  {
   "cell_type": "code",
   "execution_count": 8,
   "metadata": {},
   "outputs": [
    {
     "name": "stdout",
     "output_type": "stream",
     "text": [
      "trying http://clouds.eos.ubc.ca/~phil/docs/atsc500/tropical.zip\n",
      "writing to: tropical.zip\n",
      "writing temporary file tropical.zip_tmp\n",
      "downloaded tropical.zip\n",
      "size = 2910579\n"
     ]
    }
   ],
   "source": [
    "root = \"http://clouds.eos.ubc.ca/~phil/docs/atsc500\" \n",
    "file = \"tropical.zip\"\n",
    "download(file,root=root)"
   ]
  },
  {
   "cell_type": "markdown",
   "metadata": {},
   "source": [
    "Start vapor, go to \"Data -> Load dataset into current session\" and see if you get a\n",
    "3-d visualization of TABS"
   ]
  },
  {
   "cell_type": "code",
   "execution_count": null,
   "metadata": {
    "collapsed": true
   },
   "outputs": [],
   "source": []
  }
 ],
 "metadata": {
  "kernelspec": {
   "display_name": "Python 3",
   "language": "python",
   "name": "python3"
  },
  "language_info": {
   "codemirror_mode": {
    "name": "ipython",
    "version": 3
   },
   "file_extension": ".py",
   "mimetype": "text/x-python",
   "name": "python",
   "nbconvert_exporter": "python",
   "pygments_lexer": "ipython3",
   "version": "3.6.4"
  },
  "toc": {
   "nav_menu": {},
   "number_sections": true,
   "sideBar": false,
   "skip_h1_title": false,
   "toc_cell": true,
   "toc_position": {},
   "toc_section_display": "block",
   "toc_window_display": false
  }
 },
 "nbformat": 4,
 "nbformat_minor": 1
}
