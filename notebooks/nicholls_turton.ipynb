{
 "cells": [
  {
   "cell_type": "markdown",
   "metadata": {
    "toc": true
   },
   "source": [
    "<h1>Table of Contents<span class=\"tocSkip\"></span></h1>\n",
    "<div class=\"toc\"><ul class=\"toc-item\"><li><ul class=\"toc-item\"><li><span><a href=\"#Move-to-the-full-Nicholls-Turton-entrainment-parameterization,-following-Gesso-et-al.-2014\" data-toc-modified-id=\"Move-to-the-full-Nicholls-Turton-entrainment-parameterization,-following-Gesso-et-al.-2014-0.1\"><span class=\"toc-item-num\">0.1&nbsp;&nbsp;</span>Move to the full Nicholls-Turton entrainment parameterization, following Gesso et al. 2014</a></span></li><li><span><a href=\"#turn-the-last-timestep-values-into-a-named-tuple\" data-toc-modified-id=\"turn-the-last-timestep-values-into-a-named-tuple-0.2\"><span class=\"toc-item-num\">0.2&nbsp;&nbsp;</span>turn the last timestep values into a named tuple</a></span></li><li><span><a href=\"#plot-the-$\\theta_l$-and-$q_t$--flux-profiles-at-30-levels\" data-toc-modified-id=\"plot-the-$\\theta_l$-and-$q_t$--flux-profiles-at-30-levels-0.3\"><span class=\"toc-item-num\">0.3&nbsp;&nbsp;</span>plot the $\\theta_l$ and $q_t$  flux profiles at 30 levels</a></span></li></ul></li><li><span><a href=\"#Now-turn-this-into-a-buoyancy-flux-profile\" data-toc-modified-id=\"Now-turn-this-into-a-buoyancy-flux-profile-1\"><span class=\"toc-item-num\">1&nbsp;&nbsp;</span>Now turn this into a buoyancy flux profile</a></span><ul class=\"toc-item\"><li><span><a href=\"#borrow-calc_lcl-from-interactive_vapor-notebook\" data-toc-modified-id=\"borrow-calc_lcl-from-interactive_vapor-notebook-1.1\"><span class=\"toc-item-num\">1.1&nbsp;&nbsp;</span>borrow calc_lcl from interactive_vapor notebook</a></span></li><li><span><a href=\"#calculate-the-saturated-and-unsaturated-thetav-jumps-at-the-inversion\" data-toc-modified-id=\"calculate-the-saturated-and-unsaturated-thetav-jumps-at-the-inversion-1.2\"><span class=\"toc-item-num\">1.2&nbsp;&nbsp;</span>calculate the saturated and unsaturated thetav jumps at the inversion</a></span></li><li><span><a href=\"#calculate-the-thetav-inversion-jump-accounting-for-evaporative-cooling\" data-toc-modified-id=\"calculate-the-thetav-inversion-jump-accounting-for-evaporative-cooling-1.3\"><span class=\"toc-item-num\">1.3&nbsp;&nbsp;</span>calculate the thetav inversion jump accounting for evaporative cooling</a></span></li><li><span><a href=\"#calculate-the-buoyancy-integral-terms\" data-toc-modified-id=\"calculate-the-buoyancy-integral-terms-1.4\"><span class=\"toc-item-num\">1.4&nbsp;&nbsp;</span>calculate the buoyancy integral terms</a></span></li><li><span><a href=\"#Calculate-the-densest-mixture-for-this-inversion-jump\" data-toc-modified-id=\"Calculate-the-densest-mixture-for-this-inversion-jump-1.5\"><span class=\"toc-item-num\">1.5&nbsp;&nbsp;</span>Calculate the densest mixture for this inversion jump</a></span></li><li><span><a href=\"#Calculate-the-Nicholls-and-Turton-average-evaporative-cooling-effect-$\\Delta-m-/-\\Delta-\\theta_v$\" data-toc-modified-id=\"Calculate-the-Nicholls-and-Turton-average-evaporative-cooling-effect-$\\Delta-m-/-\\Delta-\\theta_v$-1.6\"><span class=\"toc-item-num\">1.6&nbsp;&nbsp;</span>Calculate the Nicholls and Turton average evaporative cooling effect $\\Delta m / \\Delta \\theta_v$</a></span></li><li><span><a href=\"#Calculate-the-weakened-Nicholls-and-Turton-inversion-buoyancy-jump\" data-toc-modified-id=\"Calculate-the-weakened-Nicholls-and-Turton-inversion-buoyancy-jump-1.7\"><span class=\"toc-item-num\">1.7&nbsp;&nbsp;</span>Calculate the weakened Nicholls and Turton inversion buoyancy jump</a></span></li><li><span><a href=\"#Calculate-the-final-entrainment-rate-according-to-de-Roode-lecture-2-slide-15\" data-toc-modified-id=\"Calculate-the-final-entrainment-rate-according-to-de-Roode-lecture-2-slide-15-1.8\"><span class=\"toc-item-num\">1.8&nbsp;&nbsp;</span>Calculate the final entrainment rate according to de Roode lecture 2 slide 15</a></span></li></ul></li></ul></div>"
   ]
  },
  {
   "cell_type": "markdown",
   "metadata": {},
   "source": [
    "### Move to the full Nicholls-Turton entrainment parameterization, following Gesso et al. 2014\n",
    "\n",
    "Read in the model result for the simple radiative entrainment closure of de Roode lecture 2 and use those\n",
    "values to calculate the NT entrainment rate"
   ]
  },
  {
   "cell_type": "code",
   "execution_count": 1,
   "metadata": {},
   "outputs": [
    {
     "name": "stdout",
     "output_type": "stream",
     "text": [
      "/Users/phil/repos/atsc500/a500/thermo/thermfuncs.py\n"
     ]
    }
   ],
   "source": [
    "from matplotlib import pyplot as plt\n",
    "from a500.utils.helper_funs import make_tuple\n",
    "from a500.thermo import thermfuncs as tf\n",
    "from a500.thermo import thermconst as tc\n",
    "import pandas as pd\n",
    "import numpy as np\n",
    "import pdb\n",
    "\n",
    "with open('vapor_profile.csv') as f:\n",
    "    df_result=pd.read_csv(f)\n",
    "    \n",
    "with open('dumpradiative.csv') as f:\n",
    "    df_result=pd.read_csv(f)\n",
    "out=df_result.plot('time','h')\n",
    "\n",
    "print(tf.__file__)"
   ]
  },
  {
   "cell_type": "code",
   "execution_count": 2,
   "metadata": {},
   "outputs": [
    {
     "data": {
      "text/html": [
       "<div>\n",
       "<style scoped>\n",
       "    .dataframe tbody tr th:only-of-type {\n",
       "        vertical-align: middle;\n",
       "    }\n",
       "\n",
       "    .dataframe tbody tr th {\n",
       "        vertical-align: top;\n",
       "    }\n",
       "\n",
       "    .dataframe thead th {\n",
       "        text-align: right;\n",
       "    }\n",
       "</style>\n",
       "<table border=\"1\" class=\"dataframe\">\n",
       "  <thead>\n",
       "    <tr style=\"text-align: right;\">\n",
       "      <th></th>\n",
       "      <th>theta</th>\n",
       "      <th>h</th>\n",
       "      <th>qv</th>\n",
       "      <th>time</th>\n",
       "      <th>deltheta</th>\n",
       "      <th>delqv</th>\n",
       "      <th>LCL</th>\n",
       "      <th>q_flux_0</th>\n",
       "      <th>T_flux_0</th>\n",
       "      <th>thick</th>\n",
       "      <th>entflux_theta</th>\n",
       "      <th>went</th>\n",
       "      <th>entflux_qv</th>\n",
       "      <th>radcool</th>\n",
       "    </tr>\n",
       "  </thead>\n",
       "  <tbody>\n",
       "    <tr>\n",
       "      <th>2155</th>\n",
       "      <td>279.302789</td>\n",
       "      <td>481.432282</td>\n",
       "      <td>0.005376</td>\n",
       "      <td>14.965278</td>\n",
       "      <td>11.585805</td>\n",
       "      <td>-0.003376</td>\n",
       "      <td>206.767554</td>\n",
       "      <td>0.000008</td>\n",
       "      <td>0.006972</td>\n",
       "      <td>274.664728</td>\n",
       "      <td>-0.001394</td>\n",
       "      <td>0.00012</td>\n",
       "      <td>4.062698e-07</td>\n",
       "      <td>35.0</td>\n",
       "    </tr>\n",
       "    <tr>\n",
       "      <th>2156</th>\n",
       "      <td>279.302789</td>\n",
       "      <td>481.432258</td>\n",
       "      <td>0.005376</td>\n",
       "      <td>14.972222</td>\n",
       "      <td>11.585805</td>\n",
       "      <td>-0.003376</td>\n",
       "      <td>206.767558</td>\n",
       "      <td>0.000008</td>\n",
       "      <td>0.006972</td>\n",
       "      <td>274.664700</td>\n",
       "      <td>-0.001394</td>\n",
       "      <td>0.00012</td>\n",
       "      <td>4.062698e-07</td>\n",
       "      <td>35.0</td>\n",
       "    </tr>\n",
       "    <tr>\n",
       "      <th>2157</th>\n",
       "      <td>279.302789</td>\n",
       "      <td>481.432234</td>\n",
       "      <td>0.005376</td>\n",
       "      <td>14.979167</td>\n",
       "      <td>11.585805</td>\n",
       "      <td>-0.003376</td>\n",
       "      <td>206.767562</td>\n",
       "      <td>0.000008</td>\n",
       "      <td>0.006972</td>\n",
       "      <td>274.664672</td>\n",
       "      <td>-0.001394</td>\n",
       "      <td>0.00012</td>\n",
       "      <td>4.062699e-07</td>\n",
       "      <td>35.0</td>\n",
       "    </tr>\n",
       "    <tr>\n",
       "      <th>2158</th>\n",
       "      <td>279.302789</td>\n",
       "      <td>481.432211</td>\n",
       "      <td>0.005376</td>\n",
       "      <td>14.986111</td>\n",
       "      <td>11.585804</td>\n",
       "      <td>-0.003376</td>\n",
       "      <td>206.767566</td>\n",
       "      <td>0.000008</td>\n",
       "      <td>0.006972</td>\n",
       "      <td>274.664645</td>\n",
       "      <td>-0.001394</td>\n",
       "      <td>0.00012</td>\n",
       "      <td>4.062699e-07</td>\n",
       "      <td>35.0</td>\n",
       "    </tr>\n",
       "    <tr>\n",
       "      <th>2159</th>\n",
       "      <td>279.302789</td>\n",
       "      <td>481.432188</td>\n",
       "      <td>0.005376</td>\n",
       "      <td>14.993056</td>\n",
       "      <td>11.585804</td>\n",
       "      <td>-0.003376</td>\n",
       "      <td>206.767570</td>\n",
       "      <td>0.000008</td>\n",
       "      <td>0.006972</td>\n",
       "      <td>274.664618</td>\n",
       "      <td>-0.001394</td>\n",
       "      <td>0.00012</td>\n",
       "      <td>4.062699e-07</td>\n",
       "      <td>35.0</td>\n",
       "    </tr>\n",
       "  </tbody>\n",
       "</table>\n",
       "</div>"
      ],
      "text/plain": [
       "           theta           h        qv       time   deltheta     delqv  \\\n",
       "2155  279.302789  481.432282  0.005376  14.965278  11.585805 -0.003376   \n",
       "2156  279.302789  481.432258  0.005376  14.972222  11.585805 -0.003376   \n",
       "2157  279.302789  481.432234  0.005376  14.979167  11.585805 -0.003376   \n",
       "2158  279.302789  481.432211  0.005376  14.986111  11.585804 -0.003376   \n",
       "2159  279.302789  481.432188  0.005376  14.993056  11.585804 -0.003376   \n",
       "\n",
       "             LCL  q_flux_0  T_flux_0       thick  entflux_theta     went  \\\n",
       "2155  206.767554  0.000008  0.006972  274.664728      -0.001394  0.00012   \n",
       "2156  206.767558  0.000008  0.006972  274.664700      -0.001394  0.00012   \n",
       "2157  206.767562  0.000008  0.006972  274.664672      -0.001394  0.00012   \n",
       "2158  206.767566  0.000008  0.006972  274.664645      -0.001394  0.00012   \n",
       "2159  206.767570  0.000008  0.006972  274.664618      -0.001394  0.00012   \n",
       "\n",
       "        entflux_qv  radcool  \n",
       "2155  4.062698e-07     35.0  \n",
       "2156  4.062698e-07     35.0  \n",
       "2157  4.062699e-07     35.0  \n",
       "2158  4.062699e-07     35.0  \n",
       "2159  4.062699e-07     35.0  "
      ]
     },
     "execution_count": 2,
     "metadata": {},
     "output_type": "execute_result"
    }
   ],
   "source": [
    "df_result.tail()"
   ]
  },
  {
   "cell_type": "markdown",
   "metadata": {},
   "source": [
    "### turn the last timestep values into a named tuple"
   ]
  },
  {
   "cell_type": "code",
   "execution_count": 3,
   "metadata": {},
   "outputs": [
    {
     "name": "stdout",
     "output_type": "stream",
     "text": [
      "theta            2.793028e+02\n",
      "h                4.814322e+02\n",
      "qv               5.375565e-03\n",
      "time             1.499306e+01\n",
      "deltheta         1.158580e+01\n",
      "delqv           -3.375565e-03\n",
      "LCL              2.067676e+02\n",
      "q_flux_0         8.125389e-06\n",
      "T_flux_0         6.972112e-03\n",
      "thick            2.746646e+02\n",
      "entflux_theta   -1.394422e-03\n",
      "went             1.203561e-04\n",
      "entflux_qv       4.062699e-07\n",
      "radcool          3.500000e+01\n",
      "Name: 2159, dtype: float64\n"
     ]
    }
   ],
   "source": [
    "out=df_result.iloc[-1]  #final timestep in dataframe\n",
    "print(out)\n",
    "steady_state=make_tuple(out.to_dict())"
   ]
  },
  {
   "cell_type": "markdown",
   "metadata": {},
   "source": [
    "### plot the $\\theta_l$ and $q_t$  flux profiles at 30 levels"
   ]
  },
  {
   "cell_type": "code",
   "execution_count": 4,
   "metadata": {},
   "outputs": [
    {
     "data": {
      "image/png": "[encoded data removed]",
      "text/plain": [
       "<Figure size 864x720 with 2 Axes>"
      ]
     },
     "metadata": {},
     "output_type": "display_data"
    }
   ],
   "source": [
    "def flux_prof(z,coeffs):\n",
    "    Fout=coeffs.Fsfc + (coeffs.Finv - coeffs.Fsfc)*(z/coeffs.zinv)\n",
    "    return Fout\n",
    "\n",
    "zvals=np.linspace(0,steady_state.h,30)\n",
    "coeffs_thetal=make_tuple(dict(Fsfc=steady_state.T_flux_0,Finv=steady_state.entflux_theta,\n",
    "                       zinv=steady_state.h))\n",
    "coeffs_qt=make_tuple(dict(Fsfc=steady_state.q_flux_0,Finv=steady_state.entflux_qv,\n",
    "                       zinv=steady_state.h))\n",
    "flux_thetal=flux_prof(zvals,coeffs_thetal)\n",
    "flux_qt=flux_prof(zvals,coeffs_qt)\n",
    "df_flux=pd.DataFrame.from_records(zip(zvals,flux_thetal,flux_qt),columns=['z','flux_thetal','flux_qt'])\n",
    "\n",
    "\n",
    "fig,(ax0,ax1) = plt.subplots(1,2,figsize=(12,10))\n",
    "df_flux.plot('flux_thetal','z',ax=ax0)\n",
    "out=ax1.plot(flux_qt*2.5e6,zvals)\n",
    "\n",
    "out=ax0.set(title=r'$\\theta_l$ flux (K m/s)',ylabel='height (m)')\n",
    "ax1.set(title=r'$q_t\\ flux\\ (W m^{-2})$',ylabel='height (m)');\n",
    "\n"
   ]
  },
  {
   "cell_type": "markdown",
   "metadata": {},
   "source": [
    "## Now turn this into a buoyancy flux profile"
   ]
  },
  {
   "cell_type": "code",
   "execution_count": 5,
   "metadata": {},
   "outputs": [
    {
     "data": {
      "image/png": "[encoded data removed]",
      "text/plain": [
       "<Figure size 576x864 with 1 Axes>"
      ]
     },
     "metadata": {},
     "output_type": "display_data"
    }
   ],
   "source": [
    "from a500.thermo.thermfuncs import find_press, calc_ABcoeffs\n",
    "press_vec = find_press(zvals)\n",
    "#\n",
    "# find A and B coefficients at each level\n",
    "# note that qv = qt and theta=thetal in interactive_vapor.ipynb\n",
    "#\n",
    "\n",
    "A_list=[]\n",
    "B_list=[]\n",
    "for press0 in press_vec:\n",
    "    A, B, issat=calc_ABcoeffs(steady_state.theta,steady_state.qv,press0)\n",
    "    A_list.append(A)\n",
    "    B_list.append(B)    \n",
    "    \n",
    "A=np.array(A_list)\n",
    "B=np.array(B_list)\n",
    "\n",
    "    \n",
    "buoyancy_flux = A*flux_thetal + B*flux_qt\n",
    "df_flux['buoyancy'] = buoyancy_flux\n",
    "\n",
    "fig, ax0 = plt.subplots(1,1,figsize=(8,12))\n",
    "df_flux.plot('buoyancy','z',ax=ax0)\n",
    "out=ax0.set(title=r'buyouancy flux (K m/s)',ylabel='height (m)')"
   ]
  },
  {
   "cell_type": "markdown",
   "metadata": {},
   "source": [
    "### borrow calc_lcl from interactive_vapor notebook"
   ]
  },
  {
   "cell_type": "code",
   "execution_count": 6,
   "metadata": {},
   "outputs": [
    {
     "data": {
      "text/plain": [
       "(206.76757023236547, 97.93232429767635)"
      ]
     },
     "execution_count": 6,
     "metadata": {},
     "output_type": "execute_result"
    }
   ],
   "source": [
    "def calc_lcl(row,psfc):\n",
    "    \"\"\"\n",
    "      find the lcl (in m) for a row in the dataframe\n",
    "    \"\"\"\n",
    "    Tdew = tf.tmr(row['qv'],psfc)\n",
    "    LCL = tf.LCL(Tdew,row['theta'],psfc)  #kPa\n",
    "    #\n",
    "    # rough approximation:  10 kPa = 1 km\n",
    "    #\n",
    "    delp=psfc - LCL\n",
    "    lcl_z= delp*100.\n",
    "    #pdb.set_trace()\n",
    "    return lcl_z, LCL\n",
    "\n",
    "lcl_z, lcl_p = calc_lcl(df_result.iloc[-1],100.)\n",
    "lcl_z, lcl_p"
   ]
  },
  {
   "cell_type": "markdown",
   "metadata": {},
   "source": [
    "### calculate the saturated and unsaturated thetav jumps at the inversion\n",
    "\n",
    "(unnumbered del Gesso equations below equation 14)"
   ]
  },
  {
   "cell_type": "code",
   "execution_count": 7,
   "metadata": {},
   "outputs": [
    {
     "name": "stdout",
     "output_type": "stream",
     "text": [
      "del_thv_dry 11.003090778373952\n",
      "del_thv_sat 2.7415089308730565\n"
     ]
    }
   ],
   "source": [
    "dth=steady_state.deltheta\n",
    "dqt=steady_state.delqv\n",
    "thetal_m=steady_state.theta\n",
    "qt_m=steady_state.qv\n",
    "h=steady_state.h\n",
    "press=tf.find_press(steady_state.h)   #kPa\n",
    "thetal_ft = steady_state.theta + dth\n",
    "qt_ft = steady_state.qv + dqt\n",
    "\n",
    "Ad,Bd,issat = tf.calc_ABcoeffs(thetal_ft,qt_ft,press)\n",
    "Aw,Bw,issat = tf.calc_ABcoeffs(thetal_m,qt_m,press)\n",
    "invert= tf.t_uos_thetal(thetal_m,qt_m,press)\n",
    "T_0 = invert.temp\n",
    "lv=tf.L_t(invert.temp)\n",
    "Cl =  (Ad*lv/tc.CPD - T_0/tc.EPS)\n",
    "del_thv_dry = Ad * dth + Bd * dqt\n",
    "del_thv_sat = Aw * dth + Bw * dqt\n",
    "print('del_thv_dry',del_thv_dry)\n",
    "print('del_thv_sat',del_thv_sat)"
   ]
  },
  {
   "cell_type": "code",
   "execution_count": 8,
   "metadata": {},
   "outputs": [
    {
     "data": {
      "text/plain": [
       "(0.5588383758459707, 1105.9135748473473)"
      ]
     },
     "execution_count": 8,
     "metadata": {},
     "output_type": "execute_result"
    }
   ],
   "source": [
    "Aw, Bw"
   ]
  },
  {
   "cell_type": "markdown",
   "metadata": {},
   "source": [
    "###  calculate the thetav inversion jump accounting for evaporative cooling\n",
    "\n",
    "(see Stevens 2002 equations 16-18)"
   ]
  },
  {
   "cell_type": "code",
   "execution_count": 9,
   "metadata": {},
   "outputs": [
    {
     "name": "stdout",
     "output_type": "stream",
     "text": [
      "ql_max at cloud top (kg/kg) 0.00022777567096362965\n",
      "Del_thv 10.53824044025201\n"
     ]
    }
   ],
   "source": [
    "ql_max = invert.ql\n",
    "print('ql_max at cloud top (kg/kg)',ql_max)\n",
    "Cl =  (Ad*lv/tc.CPD - T_0/tc.EPS)\n",
    "Del_thv = del_thv_dry - Cl * ql_max\n",
    "print('Del_thv',Del_thv)"
   ]
  },
  {
   "cell_type": "markdown",
   "metadata": {},
   "source": [
    "### calculate the buoyancy integral terms\n",
    "\n",
    "Gesso equations 13-14"
   ]
  },
  {
   "cell_type": "code",
   "execution_count": 10,
   "metadata": {},
   "outputs": [
    {
     "name": "stdout",
     "output_type": "stream",
     "text": [
      "Gesso Θne 0.015824860046763846\n",
      "167.14811408607326\n"
     ]
    }
   ],
   "source": [
    "zi = steady_state.h\n",
    "lcl_press=tf.LCL_thetal(thetal_m,qt_m)\n",
    "zb=tf.find_height(lcl_press)\n",
    "\n",
    "T1 = zb/zi\n",
    "T2 = 0.5 * zb**2 / zi**2\n",
    "T3 = (zi-zb)/zi\n",
    "T4 = 0.5 * (zi**2 - zb**2) / zi**2\n",
    "\n",
    "wtl_0=steady_state.T_flux_0\n",
    "wqt_0=steady_state.q_flux_0\n",
    "Del_F = steady_state.radcool/tc.CPD\n",
    "\n",
    "term1 = wtl_0 * (Ad * (T1-T2) + Aw * (T3-T4))\n",
    "term2 = wqt_0 * (Bd * (T1-T2) + Bw * (T3-T4))\n",
    "term3 = Del_F * (Ad * T2      + Aw * T4)\n",
    "\n",
    "Theta_NE = term1 + term2 + term3\n",
    "print('Gesso Θne',Theta_NE)\n",
    "print(zb)"
   ]
  },
  {
   "cell_type": "markdown",
   "metadata": {},
   "source": [
    "Find wstar using Gesso equations 8 and 12"
   ]
  },
  {
   "cell_type": "code",
   "execution_count": 11,
   "metadata": {},
   "outputs": [
    {
     "name": "stdout",
     "output_type": "stream",
     "text": [
      "wstar without entrainment: 0.877 (m/s)\n"
     ]
    }
   ],
   "source": [
    "wstar=(2.5*9.8/T_0*zi*Theta_NE)**(1/3.)\n",
    "print('wstar without entrainment: {:5.3f} (m/s)'.format(wstar))"
   ]
  },
  {
   "cell_type": "markdown",
   "metadata": {},
   "source": [
    "### Calculate the densest mixture for this inversion jump\n",
    "\n",
    "Stevens equation 20"
   ]
  },
  {
   "cell_type": "code",
   "execution_count": 12,
   "metadata": {},
   "outputs": [
    {
     "name": "stdout",
     "output_type": "stream",
     "text": [
      "just saturated at with  5.63% environmental air\n"
     ]
    }
   ],
   "source": [
    "chi_star = Cl * ql_max / (del_thv_dry - del_thv_sat)\n",
    "print('just saturated at with {:5.2f}% environmental air'.format(chi_star*100.))"
   ]
  },
  {
   "cell_type": "markdown",
   "metadata": {},
   "source": [
    "### Calculate the Nicholls and Turton average evaporative cooling effect $\\Delta m / \\Delta \\theta_v$\n",
    "\n",
    "Stevens eq. 30 and de Roode lecture 2  slide 12 -- note that $\\Delta m/\\Delta \\theta_v = 1$ for no evaporation"
   ]
  },
  {
   "cell_type": "code",
   "execution_count": 13,
   "metadata": {},
   "outputs": [
    {
     "name": "stdout",
     "output_type": "stream",
     "text": [
      "Δm/Δθv =  0.96\n"
     ]
    }
   ],
   "source": [
    "Del_m = del_thv_dry + chi_star * (2. - chi_star) * (del_thv_sat - del_thv_dry)\n",
    "print('Δm/Δθv = {:5.2f}'.format(Del_m/Del_thv))"
   ]
  },
  {
   "cell_type": "markdown",
   "metadata": {},
   "source": [
    "### Calculate the weakened Nicholls and Turton inversion buoyancy jump\n",
    "\n",
    "de Roode lecture 2 slide 15 and Stevens eqn 29 with a2=15 following Bretherton"
   ]
  },
  {
   "cell_type": "code",
   "execution_count": 14,
   "metadata": {},
   "outputs": [
    {
     "name": "stdout",
     "output_type": "stream",
     "text": [
      "original Del_thv=10.54 (K), Del_thv_NT =  6.49 (K)\n"
     ]
    }
   ],
   "source": [
    "a2=15.\n",
    "Del_thv_NT = Del_thv / (1. + a2 * (1. - Del_m/Del_thv))\n",
    "print('original Del_thv={:5.2f} (K), Del_thv_NT = {:5.2f} (K)'.format(Del_thv,Del_thv_NT))"
   ]
  },
  {
   "cell_type": "markdown",
   "metadata": {},
   "source": [
    "### Calculate the final entrainment rate according to de Roode lecture 2 slide 15"
   ]
  },
  {
   "cell_type": "code",
   "execution_count": 15,
   "metadata": {},
   "outputs": [
    {
     "name": "stdout",
     "output_type": "stream",
     "text": [
      "radiative we is 0.012 cm/s and NT we is 0.107 cm/s\n"
     ]
    }
   ],
   "source": [
    "A_NT = 0.2\n",
    "fac_NT = 2.5\n",
    "\n",
    "term4 = Del_thv_NT\n",
    "term5 = A_NT * fac_NT * (T2 * del_thv_dry + T4 * del_thv_sat)\n",
    "denominator = term4 + term5\n",
    "\n",
    "we = A_NT * fac_NT * Theta_NE / denominator\n",
    "print('radiative we is {:5.3f} cm/s and NT we is {:5.3f} cm/s'.format(steady_state.went*100.,we*100.))"
   ]
  },
  {
   "cell_type": "code",
   "execution_count": null,
   "metadata": {},
   "outputs": [],
   "source": []
  }
 ],
 "metadata": {
  "kernelspec": {
   "display_name": "Python 3",
   "language": "python",
   "name": "python3"
  },
  "language_info": {
   "codemirror_mode": {
    "name": "ipython",
    "version": 3
   },
   "file_extension": ".py",
   "mimetype": "text/x-python",
   "name": "python",
   "nbconvert_exporter": "python",
   "pygments_lexer": "ipython3",
   "version": "3.6.4"
  },
  "toc": {
   "nav_menu": {},
   "number_sections": true,
   "sideBar": false,
   "skip_h1_title": false,
   "title_cell": "Table of Contents",
   "title_sidebar": "Contents",
   "toc_cell": true,
   "toc_position": {},
   "toc_section_display": "block",
   "toc_window_display": false
  }
 },
 "nbformat": 4,
 "nbformat_minor": 1
}
