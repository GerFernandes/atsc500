{
 "cells": [
  {
   "cell_type": "code",
   "execution_count": 1,
   "metadata": {},
   "outputs": [],
   "source": [
    "from matplotlib import pyplot as plt\n",
    "from netCDF4 import Dataset\n",
    "import numpy as np"
   ]
  },
  {
   "cell_type": "code",
   "execution_count": 2,
   "metadata": {},
   "outputs": [
    {
     "name": "stdout",
     "output_type": "stream",
     "text": [
      "trying http://clouds.eos.ubc.ca/~phil/docs/atsc500/data//case_60_10.nc\n",
      "writing to: case_60_10.nc\n",
      "\n",
      "case_60_10.nc already exists\n",
      "and is 499251027 bytes\n",
      "will not overwrite\n",
      "\n"
     ]
    }
   ],
   "source": [
    "from  a500.utils.data_read import download\n",
    "the_root=\"http://clouds.eos.ubc.ca/~phil/docs/atsc500/data/\"\n",
    "the_file='case_60_10.nc'\n",
    "out=download(the_file,root=the_root)"
   ]
  },
  {
   "cell_type": "markdown",
   "metadata": {},
   "source": [
    "# Working with groups\n",
    "\n",
    "the Dataset object has a method call groups that returns a dictionary with all groups\n",
    "\n",
    "Similarly, each group object has a method called variables that returns a dictionary of all variables\n",
    "\n",
    "So to get the shape of the wvel array for each group member, do something like this:"
   ]
  },
  {
   "cell_type": "code",
   "execution_count": 3,
   "metadata": {},
   "outputs": [
    {
     "name": "stdout",
     "output_type": "stream",
     "text": [
      "['c1', 'c2', 'c3', 'c4', 'c5', 'c6', 'c7', 'c8', 'c9', 'c10']\n",
      "(48, 130, 20, 25)\n",
      "(48, 130, 20, 25)\n",
      "(48, 130, 20, 25)\n",
      "(48, 130, 20, 25)\n",
      "(48, 130, 20, 25)\n",
      "(48, 130, 20, 25)\n",
      "(48, 130, 20, 25)\n",
      "(48, 130, 20, 25)\n",
      "(48, 130, 20, 25)\n",
      "(48, 130, 20, 25)\n"
     ]
    }
   ],
   "source": [
    "case_name='case_60_10.nc'\n",
    "#\n",
    "# get the names of all the groups in the file\n",
    "#\n",
    "with Dataset(case_name,'r') as ncin:\n",
    "    #\n",
    "    # grab the group variables\n",
    "    #\n",
    "    groupnames=list(ncin.groups.keys())\n",
    "    print(groupnames)\n",
    "#\n",
    "# iterate over the groups dictionary and get vvel\n",
    "#\n",
    "with Dataset(case_name,'r') as ncin:\n",
    "    for name,group in ncin.groups.items():\n",
    "        vvel = group.variables['W']\n",
    "        print(vvel.shape)"
   ]
  },
  {
   "cell_type": "code",
   "execution_count": null,
   "metadata": {},
   "outputs": [],
   "source": []
  }
 ],
 "metadata": {
  "kernelspec": {
   "display_name": "Python 3",
   "language": "python",
   "name": "python3"
  },
  "language_info": {
   "codemirror_mode": {
    "name": "ipython",
    "version": 3
   },
   "file_extension": ".py",
   "mimetype": "text/x-python",
   "name": "python",
   "nbconvert_exporter": "python",
   "pygments_lexer": "ipython3",
   "version": "3.6.3"
  },
  "toc": {
   "nav_menu": {},
   "number_sections": true,
   "sideBar": false,
   "skip_h1_title": false,
   "toc_cell": true,
   "toc_position": {},
   "toc_section_display": "block",
   "toc_window_display": false
  }
 },
 "nbformat": 4,
 "nbformat_minor": 1
}
