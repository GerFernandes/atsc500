{
 "cells": [
  {
   "cell_type": "markdown",
   "metadata": {
    "toc": true
   },
   "source": [
    "<h1>Table of Contents<span class=\"tocSkip\"></span></h1>\n",
    "<div class=\"toc\"><ul class=\"toc-item\"><li><span><a href=\"#Nicholls-Turton-Parameterization-Notebook\" data-toc-modified-id=\"Nicholls-Turton-Parameterization-Notebook-1\"><span class=\"toc-item-num\">1&nbsp;&nbsp;</span>Nicholls-Turton Parameterization Notebook</a></span><ul class=\"toc-item\"><li><span><a href=\"#Author:--Tim-Chui\" data-toc-modified-id=\"Author:--Tim-Chui-1.1\"><span class=\"toc-item-num\">1.1&nbsp;&nbsp;</span>Author:  Tim Chui</a></span></li><li><span><a href=\"#Helper-functions-adapted-from-interactive_vaporflux.ipynb\" data-toc-modified-id=\"Helper-functions-adapted-from-interactive_vaporflux.ipynb-1.2\"><span class=\"toc-item-num\">1.2&nbsp;&nbsp;</span>Helper functions adapted from interactive_vaporflux.ipynb</a></span></li><li><span><a href=\"#Main-functions-for-integration-and-output\" data-toc-modified-id=\"Main-functions-for-integration-and-output-1.3\"><span class=\"toc-item-num\">1.3&nbsp;&nbsp;</span>Main functions for integration and output</a></span></li><li><span><a href=\"#Integrate-across-different-sst-and-ft_qv-to-obtain-phase-space-of-variables\" data-toc-modified-id=\"Integrate-across-different-sst-and-ft_qv-to-obtain-phase-space-of-variables-1.4\"><span class=\"toc-item-num\">1.4&nbsp;&nbsp;</span>Integrate across different sst and ft_qv to obtain phase-space of variables</a></span></li><li><span><a href=\"#Show-Gesso-Fig.-3,-radiation-sensitivity\" data-toc-modified-id=\"Show-Gesso-Fig.-3,-radiation-sensitivity-1.5\"><span class=\"toc-item-num\">1.5&nbsp;&nbsp;</span>Show Gesso Fig. 3, radiation sensitivity</a></span></li><li><span><a href=\"#Plot-$w_e$-contours-\" data-toc-modified-id=\"Plot-$w_e$-contours--1.6\"><span class=\"toc-item-num\">1.6&nbsp;&nbsp;</span>Plot $w_e$ contours </a></span></li></ul></li></ul></div>"
   ]
  },
  {
   "cell_type": "markdown",
   "metadata": {},
   "source": [
    "# Nicholls-Turton Parameterization Notebook\n",
    "\n",
    "## Author:  Tim Chui"
   ]
  },
  {
   "cell_type": "markdown",
   "metadata": {},
   "source": [
    "<h2>Helper functions adapted from interactive_vaporflux.ipynb</h2>"
   ]
  },
  {
   "cell_type": "code",
   "execution_count": 1,
   "metadata": {},
   "outputs": [],
   "source": [
    "from matplotlib import pyplot as plt\n",
    "from a500.utils.helper_funs import make_tuple\n",
    "from a500.thermo import thermfuncs as tf\n",
    "from a500.thermo import thermconst as tc\n",
    "from importlib import reload\n",
    "reload(tf)\n",
    "import pdb\n",
    "import pandas as pd\n",
    "import numpy as np\n",
    "import scipy.integrate as integrate\n",
    "from joblib import Parallel\n",
    "\n",
    "\n",
    "plt.style.use('ggplot')\n",
    "\n",
    "def theta_ft(h,ft_intercept,gamma):\n",
    "    \"\"\"\n",
    "       input h (meters) and the coefficients for the linear\n",
    "       profile for the free troposphere theta (ft_intercept (K)  and slope gamma (K/m))\n",
    "       return the free tropospher theta at height h\n",
    "    \"\"\"\n",
    "    theta_top = ft_intercept + h*gamma\n",
    "    return theta_top\n",
    "\n",
    "def dmixed_vars(the_vars,tstep,coeffs):\n",
    "    \"\"\"\n",
    "      the_vars[0]= thetabar\n",
    "      the_vars[1] = h\n",
    "      the_vars[2] = qv\n",
    "      \n",
    "      surface flux from drag law with subsidence and diagnosed deltheta\n",
    "    \"\"\"\n",
    "\n",
    "    deltheta = theta_ft(the_vars[1],coeffs.ft_intercept,coeffs.ft_gamma) - the_vars[0]\n",
    "    F0 = coeffs.U*coeffs.Cd*(coeffs.sst - the_vars[0])  #surface heat flux\n",
    "    Fqv0 = coeffs.U*coeffs.Cd*(coeffs.qsfc - the_vars[2])  #surface vapor flux\n",
    "    Fint = -coeffs.k*F0  #entrainment heat flux\n",
    "    \n",
    "    if coeffs.use_NT: # use NT parameterization by calculating we using function\n",
    "        went = calc_went_NT(the_vars, coeffs, deltheta, F0, Fqv0) # Nicholls-Turton parameterization\n",
    "        \n",
    "    else: # use simple we parameterization\n",
    "        went = -Fint/deltheta  #simple entrainment parameterization\n",
    "    \n",
    "    # calculate delta_Fr\n",
    "    delta_Frstar = 82.0 # Wm^-2\n",
    "    Frlambda = 7.9 # Wm^-2, using with CTL from Gesso\n",
    "    delta_Fr = delta_Frstar - Frlambda*coeffs.ft_qv*1000 # convert qt_ft to g kg^-1\n",
    "    \n",
    "    Fqvent = -went*( coeffs.ft_qv - the_vars[2])\n",
    "    wsubs = -coeffs.D*the_vars[1]\n",
    "    rho=1.\n",
    "    cp=1004.\n",
    "    #pdb.set_trace()\n",
    "    derivs=np.empty_like(the_vars)\n",
    "    \n",
    "    # higher delta_Fr from drier air at mixed-layer top...hence cloudy air results in less radiative cooling\n",
    "    derivs[0]=(F0 - Fint)/(the_vars[1]*rho) - delta_Fr/1004./the_vars[1] \n",
    "    derivs[1] = went + wsubs\n",
    "    derivs[2] = (Fqv0 - Fqvent)/the_vars[1]\n",
    "    return derivs\n",
    "\n",
    "def calc_went_NT(the_vars, coeffs, deltheta, F0, Fqv0):\n",
    "    \"\"\"\n",
    "       Nicholls-Turton entrainment parameterization\n",
    "       the_vars and coeffs are inputs into dmixed_vars\n",
    "       deltheta, F0, Fqv0 are calculated in dmixed_vars\n",
    "    \"\"\"\n",
    "    thetal_m = the_vars[0]\n",
    "    qt_m = the_vars[2]\n",
    "    zi = the_vars[1]\n",
    "    dth = deltheta\n",
    "    \n",
    "    thetal_ft = thetal_m + dth\n",
    "    qt_ft = coeffs.ft_qv\n",
    "    \n",
    "    dqt = qt_ft - qt_m\n",
    "    \n",
    "    # calculate thetal at z = 3000 m (take qt(z = 3000m) = qt(z = h), so delta_qt = dqt)\n",
    "    gamma = 6e-3 \n",
    "    thetal_3000 = thetal_ft + gamma*(3000-zi)\n",
    "    LTS = thetal_3000 - coeffs.sst # lower tropospheric stability\n",
    "\n",
    "    # calculate coefficients\n",
    "    press=tf.find_press(zi)\n",
    "    Ad,Bd,issat = tf.calc_ABcoeffs(thetal_ft,qt_ft,press)\n",
    "    Aw,Bw,issat = tf.calc_ABcoeffs(thetal_m,qt_m,press)\n",
    "    \n",
    "    invert= tf.t_uos_thetal(thetal_m,qt_m,press)\n",
    "    T_0 = invert.temp\n",
    "    lv=tf.L_t(invert.temp)\n",
    "    Cl =  (Ad*lv/tc.CPD - T_0/tc.EPS)\n",
    "    del_thv_dry = Ad * dth + Bd * dqt\n",
    "    del_thv_sat = Aw * dth + Bw * dqt\n",
    "    \n",
    "    # account for evaporative cooling (increases we)\n",
    "    ql_max = invert.ql\n",
    "    Cl =  (Ad*lv/tc.CPD - T_0/tc.EPS)\n",
    "    Del_thv = del_thv_dry - Cl * ql_max\n",
    "    \n",
    "    # calculate buoyancy integral terms\n",
    "    rho = 1.\n",
    "    lcl_press=tf.LCL_thetal(thetal_m,qt_m)\n",
    "    zb=tf.find_height(lcl_press)\n",
    "\n",
    "    T1 = zb/zi\n",
    "    T2 = 0.5 * zb**2 / zi**2\n",
    "    T3 = (zi-zb)/zi\n",
    "    T4 = 0.5 * (zi**2 - zb**2) / zi**2\n",
    "    \n",
    "    # calculate delta_Fr\n",
    "    delta_Frstar = 82.0 # Wm^-2\n",
    "    Frlambda = 7.9 # Wm^-2, using with CTL from Gesso\n",
    "    delta_Fr = delta_Frstar - Frlambda*qt_ft*1000 # convert qt_ft to g kg^-1\n",
    "\n",
    "    wtl_0=F0\n",
    "    wqt_0=Fqv0\n",
    "    Del_F = delta_Fr/(tc.CPD*rho) # use sensitivity to radiation a la Gesso Fig. 3\n",
    "    term1 = wtl_0 * (Ad * (T1-T2) + Aw * (T3-T4))\n",
    "    term2 = wqt_0 * (Bd * (T1-T2) + Bw * (T3-T4))\n",
    "    term3 = Del_F * (Ad * T2      + Aw * T4)\n",
    "\n",
    "    Theta_NE = term1 + term2 + term3\n",
    "    \n",
    "    # calculate w*\n",
    "    wstar=(2.5*9.8/T_0*zi*Theta_NE)**(1/3.)\n",
    "    \n",
    "    # calculate chi*\n",
    "    chi_star = Cl * ql_max / (del_thv_dry - del_thv_sat)\n",
    "    \n",
    "    # calculate del_m\n",
    "    Del_m = del_thv_dry + chi_star * (2. - chi_star) * (del_thv_sat - del_thv_dry)\n",
    "    \n",
    "    # calculate we\n",
    "    a2=15.\n",
    "    Del_thv_NT = Del_thv / (1. + a2 * (1. - Del_m/Del_thv))\n",
    "    \n",
    "    A_NT = 0.2\n",
    "    fac_NT = 2.5\n",
    "\n",
    "    term4 = Del_thv_NT\n",
    "    term5 = A_NT * fac_NT * (T2 * del_thv_dry + T4 * del_thv_sat)\n",
    "    denominator = term4 + term5\n",
    "\n",
    "    we = A_NT * fac_NT * Theta_NE / denominator\n",
    "    \n",
    "    return we\n",
    "    \n",
    "     \n",
    "def calc_lcl(row,psfc):\n",
    "    \"\"\"\n",
    "      find the lcl (in m) for a row in the dataframe\n",
    "    \"\"\"\n",
    "    Tdew = tf.tmr(row['qv'],psfc)\n",
    "    LCL = tf.LCL(Tdew,row['theta'],psfc)  #kPa\n",
    "    #\n",
    "    # rough approximation:  10 kPa = 1 km\n",
    "    #\n",
    "    delp=psfc - LCL\n",
    "    lcl_h = delp*100.\n",
    "    return lcl_h\n",
    "\n",
    "\n",
    "def calc_sfc_theta_flux(row,coeffs):\n",
    "    F0 = coeffs.U*coeffs.Cd*(coeffs.sst - row['theta'])  #surface heat flux\n",
    "    return F0\n",
    "\n",
    "def calc_sfc_qvap_flux(row,coeffs):\n",
    "    Fqv0 = coeffs.U*coeffs.Cd*(coeffs.qsfc - row['qv'])\n",
    "    return Fqv0\n",
    "\n",
    "def calc_entflux_theta(row,coeffs):\n",
    "    flux_ent = -coeffs.k*row['T_flux_0']\n",
    "    return flux_ent\n",
    "\n",
    "def calc_went(row,coeffs): # simple entrainment parameterization; results in lower entrainment rates than NT\n",
    "    went = -row['entflux_theta']/row['deltheta']\n",
    "    return went\n",
    "    \n",
    "def calc_entflux_qv(row,coeffs):\n",
    "    flux_ent =  -row['went']*( coeffs.ft_qv - row['qv'])\n",
    "    return flux_ent\n",
    "\n"
   ]
  },
  {
   "cell_type": "markdown",
   "metadata": {},
   "source": [
    "<h2>Main functions for integration and output</h2>"
   ]
  },
  {
   "cell_type": "code",
   "execution_count": 2,
   "metadata": {},
   "outputs": [],
   "source": [
    "def run_main(sst, ft_qv, use_NT):\n",
    "    \"\"\"Adapted from interactive_vaporflux.ipynb\n",
    "       sst, sea surface temperature (K)\n",
    "       ft_qv, mixed-layer top qv (kg kg^-1)\n",
    "       use_NT, True or False\n",
    "       \n",
    "       outputs csv and json files with equilibrium values\n",
    "    \"\"\"\n",
    "\n",
    "    dtout=10.  #minutes\n",
    "    end_time=8*24.   #hours\n",
    "    del_time=dtout*60. #seconds\n",
    "    end_time=end_time*3600. #seconds\n",
    "    #sst=297\n",
    "    D=5.e-6  #s-1\n",
    "    U=7  #m/s\n",
    "    psfc=100. #kPa\n",
    "    qsfc=tf.qs_tp(sst,psfc)\n",
    "    ft_intercept = 292 #K\n",
    "    ft_gamma = 6.e-3  #K/m\n",
    "    #ft_qv = 2.e-3\n",
    "    k=0.2  #entrainment efficiency\n",
    "    Cd = 1.e-3  #drag coefficient\n",
    "    tspan = np.arange(0.,end_time,del_time)\n",
    "    vars_init=[285.,400.,8.e-3]  #theta (K), height (m) qv (kg/kg) to start\n",
    "    the_tup=dict(D=D,U=U,sst=sst,ft_intercept=ft_intercept,ft_gamma=ft_gamma,\n",
    "                 qsfc=qsfc,ft_qv=ft_qv,k=k,Cd=Cd,radcool=30.,use_NT=use_NT) # include use_NT\n",
    "    the_tup=make_tuple(the_tup,'coeffs')\n",
    "    output=integrate.odeint(dmixed_vars, vars_init, tspan,(the_tup,))\n",
    "    result=pd.DataFrame.from_records(output,columns=['theta','h','qv'])\n",
    "\n",
    "    # save time/computation by only doing calculations for the last timestep (equilibrium)\n",
    "    result['time']=tspan[-1]/3600./24.  #days\n",
    "    result['deltheta'] = theta_ft(result['h'].values[-1],ft_intercept,ft_gamma) - result['theta'].iloc[-1]\n",
    "    result['delqv'] = ft_qv - result['qv'].iloc[-1]\n",
    "    result['LCL'] = calc_lcl(result.iloc[-1], psfc)\n",
    "    result['q_flux_0']=calc_sfc_qvap_flux(result.iloc[-1],the_tup)\n",
    "    result['T_flux_0']=calc_sfc_theta_flux(result.iloc[-1],the_tup)\n",
    "    result['entflux_theta']=calc_entflux_theta(result.iloc[-1],the_tup)\n",
    "    \n",
    "    # decide how to calculate entrainment\n",
    "    the_vars = [result['theta'].iloc[-1],result['h'].iloc[-1],result['qv'].iloc[-1]]\n",
    "    if use_NT:\n",
    "        result['went']=calc_went_NT(the_vars, the_tup, result['deltheta'].iloc[-1], \n",
    "                                    result['T_flux_0'].iloc[-1], result['q_flux_0'].iloc[-1])\n",
    "    else:\n",
    "        result['went']=calc_went(result.iloc[-1],the_tup)\n",
    "\n",
    "    result['entflux_qv']=calc_entflux_qv(result.iloc[-1],the_tup)\n",
    "\n",
    "    \n",
    "    return result\n",
    "\n",
    "# ==============================================================\n",
    "\n",
    "# main function\n",
    "def calc_equil(row,col,sst, ft_qv, use_NT=False):\n",
    "    \"\"\"Adapted from nicholls_turton.ipynb\n",
    "       sst, sea surface temperature (K)\n",
    "       ft_qv, mixed-layer top qv (kg kg^-1)\n",
    "       use_NT, True or False\n",
    "       \n",
    "       outputs data array out_array with equilibrium values:\n",
    "       ([thetal_m, qt_m, zi, zb, we, LWP, delta_Fr, LTS, dqt])\n",
    "    \"\"\"\n",
    "    \n",
    "    df_result = run_main(sst, ft_qv, use_NT)\n",
    "    \n",
    "    # last time step into named tupple\n",
    "    out=df_result.iloc[-1]\n",
    "    steady_state=make_tuple(out.to_dict())\n",
    "    steady_state\n",
    "        \n",
    "    # obtain steady-state values\n",
    "    dth=steady_state.deltheta\n",
    "    dqt=steady_state.delqv\n",
    "    thetal_m=steady_state.theta\n",
    "    qt_m=steady_state.qv\n",
    "    h=steady_state.h\n",
    "    press=tf.find_press(steady_state.h)   #kPa\n",
    "    thetal_ft = steady_state.theta + dth\n",
    "    qt_ft = steady_state.qv + dqt\n",
    "    zb = steady_state.LCL\n",
    "    zi = steady_state.h\n",
    "    we = steady_state.went\n",
    "    \n",
    "    # calculate thetal at z = 3000 m (take qt(z = 3000m) = qt(z = h), so delta_qt = dqt)\n",
    "    gamma = 6e-3 \n",
    "    thetal_3000 = thetal_ft + gamma*(3000-h)\n",
    "    LTS = thetal_3000 - steady_state.theta\n",
    "    \n",
    "    # calculate delta_Fr\n",
    "    delta_Frstar = 82.0 # Wm^-2\n",
    "    Frlambda = 7.9 # Wm^-2, using with CTL from Gesso\n",
    "    delta_Fr = delta_Frstar - Frlambda*qt_ft*1000 # convert qt_ft to g kg^-1\n",
    "\n",
    "    # calculate LWP\n",
    "    rho = 1.\n",
    "    LWP = 0.5*rho*(zi-zb)**2\n",
    "    \n",
    "    # put all required variables into output array\n",
    "    print(f'in calc equil:, working on ({row},{col})')\n",
    "    out_array = np.array([row,col,sst, ft_qv,float(use_NT),thetal_m, qt_m, zi, zb, we, LWP, delta_Fr, LTS, dqt])\n",
    "    \n",
    "    return out_array"
   ]
  },
  {
   "cell_type": "markdown",
   "metadata": {},
   "source": [
    "<h2>Integrate across different sst and ft_qv to obtain phase-space of variables</h2>"
   ]
  },
  {
   "cell_type": "code",
   "execution_count": 3,
   "metadata": {},
   "outputs": [
    {
     "name": "stdout",
     "output_type": "stream",
     "text": [
      "in calc equil:, working on (0,0)\n",
      "in calc equil:, working on (0,1)\n",
      "in calc equil:, working on (0,2)\n",
      "in calc equil:, working on (0,1)\n",
      "in calc equil:, working on (0,3)\n",
      "in calc equil:, working on (0,2)\n",
      "in calc equil:, working on (0,0)\n",
      "in calc equil:, working on (0,3)\n"
     ]
    },
    {
     "name": "stderr",
     "output_type": "stream",
     "text": [
      "<string>:126: RuntimeWarning: invalid value encountered in double_scalars\n"
     ]
    },
    {
     "name": "stdout",
     "output_type": "stream",
     "text": [
      "in calc equil:, working on (0,6)\n",
      "in calc equil:, working on (0,6)\n",
      "in calc equil:, working on (0,4)\n",
      "in calc equil:, working on (0,4)\n",
      "in calc equil:, working on (0,8)\n",
      "in calc equil:, working on (0,8)\n",
      "in calc equil:, working on (1,0)\n",
      "in calc equil:, working on (1,0)\n",
      "in calc equil:, working on (0,7)\n",
      "in calc equil:, working on (0,7)\n",
      "in calc equil:, working on (1,1)\n",
      "in calc equil:, working on (1,1)\n",
      "in calc equil:, working on (0,9)\n",
      "in calc equil:, working on (0,9)\n",
      "in calc equil:, working on (0,5)\n",
      "in calc equil:, working on (0,5)\n",
      "in calc equil:, working on (1,2)\n",
      "in calc equil:, working on (1,2)\n",
      "in calc equil:, working on (1,6)\n",
      "in calc equil:, working on (1,6)\n",
      "in calc equil:, working on (1,4)\n",
      "in calc equil:, working on (1,4)\n",
      "in calc equil:, working on (1,8)\n",
      "in calc equil:, working on (1,8)\n",
      "in calc equil:, working on (1,3)\n",
      "in calc equil:, working on (1,3)\n"
     ]
    },
    {
     "name": "stderr",
     "output_type": "stream",
     "text": [
      "<string>:126: RuntimeWarning: invalid value encountered in double_scalars\n"
     ]
    },
    {
     "name": "stdout",
     "output_type": "stream",
     "text": [
      "in calc equil:, working on (1,7)\n",
      "in calc equil:, working on (1,7)\n",
      "in calc equil:, working on (1,9)\n",
      "in calc equil:, working on (1,9)\n",
      "in calc equil:, working on (1,5)\n",
      "in calc equil:, working on (1,5)\n",
      "in calc equil:, working on (2,0)\n",
      "in calc equil:, working on (2,0)\n",
      "in calc equil:, working on (2,1)\n",
      "in calc equil:, working on (2,1)\n",
      "in calc equil:, working on (2,2)\n",
      "in calc equil:, working on (2,2)\n",
      "in calc equil:, working on (2,3)\n",
      "in calc equil:, working on (2,3)\n",
      "in calc equil:, working on (2,4)\n",
      "in calc equil:, working on (2,4)\n",
      "in calc equil:, working on (2,5)\n",
      "in calc equil:, working on (2,5)\n",
      "in calc equil:, working on (2,8)\n",
      "in calc equil:, working on (2,7)\n",
      "in calc equil:, working on (2,7)\n",
      "in calc equil:, working on (2,9)\n"
     ]
    },
    {
     "name": "stderr",
     "output_type": "stream",
     "text": [
      "<string>:126: RuntimeWarning: invalid value encountered in double_scalars\n"
     ]
    },
    {
     "name": "stdout",
     "output_type": "stream",
     "text": [
      "in calc equil:, working on (2,6)\n",
      "in calc equil:, working on (2,6)\n",
      "in calc equil:, working on (3,0)\n",
      "in calc equil:, working on (2,8)\n",
      "in calc equil:, working on (3,1)\n",
      "in calc equil:, working on (2,9)\n",
      "in calc equil:, working on (3,2)\n",
      "in calc equil:, working on (3,0)\n",
      "in calc equil:, working on (3,3)\n",
      "in calc equil:, working on (3,1)\n",
      "in calc equil:, working on (3,4)\n",
      "in calc equil:, working on (3,2)\n",
      "in calc equil:, working on (3,5)\n",
      "in calc equil:, working on (3,3)\n",
      "in calc equil:, working on (3,6)\n",
      "in calc equil:, working on (3,5)\n",
      "in calc equil:, working on (3,7)\n",
      "in calc equil:, working on (3,4)\n",
      "in calc equil:, working on (3,8)\n",
      "in calc equil:, working on (3,7)\n",
      "in calc equil:, working on (3,9)\n"
     ]
    },
    {
     "name": "stderr",
     "output_type": "stream",
     "text": [
      "<string>:126: RuntimeWarning: invalid value encountered in double_scalars\n"
     ]
    },
    {
     "name": "stdout",
     "output_type": "stream",
     "text": [
      "in calc equil:, working on (3,6)\n",
      "in calc equil:, working on (4,0)\n",
      "in calc equil:, working on (3,8)\n",
      "in calc equil:, working on (4,1)\n",
      "in calc equil:, working on (3,9)\n",
      "in calc equil:, working on (4,2)\n",
      "in calc equil:, working on (4,0)\n",
      "in calc equil:, working on (4,3)\n",
      "in calc equil:, working on (4,1)\n",
      "in calc equil:, working on (4,4)\n",
      "in calc equil:, working on (4,2)\n",
      "in calc equil:, working on (4,5)\n",
      "in calc equil:, working on (4,3)\n",
      "in calc equil:, working on (4,6)\n",
      "in calc equil:, working on (4,4)\n",
      "in calc equil:, working on (4,7)\n",
      "in calc equil:, working on (4,5)\n",
      "in calc equil:, working on (4,8)\n",
      "in calc equil:, working on (4,7)\n",
      "in calc equil:, working on (4,9)\n"
     ]
    },
    {
     "name": "stderr",
     "output_type": "stream",
     "text": [
      "<string>:126: RuntimeWarning: invalid value encountered in double_scalars\n"
     ]
    },
    {
     "name": "stdout",
     "output_type": "stream",
     "text": [
      "in calc equil:, working on (4,6)\n",
      "in calc equil:, working on (5,0)\n",
      "in calc equil:, working on (4,8)\n",
      "in calc equil:, working on (5,1)\n",
      "in calc equil:, working on (4,9)\n",
      "in calc equil:, working on (5,2)\n",
      "in calc equil:, working on (5,1)\n",
      "in calc equil:, working on (5,3)\n",
      "in calc equil:, working on (5,0)\n",
      "in calc equil:, working on (5,4)\n",
      "in calc equil:, working on (5,3)\n",
      "in calc equil:, working on (5,5)\n",
      "in calc equil:, working on (5,2)\n",
      "in calc equil:, working on (5,6)\n",
      "in calc equil:, working on (5,4)\n",
      "in calc equil:, working on (5,7)\n",
      "in calc equil:, working on (5,5)\n",
      "in calc equil:, working on (5,8)\n",
      "in calc equil:, working on (5,6)\n",
      "in calc equil:, working on (5,9)\n"
     ]
    },
    {
     "name": "stderr",
     "output_type": "stream",
     "text": [
      "<string>:126: RuntimeWarning: invalid value encountered in double_scalars\n"
     ]
    },
    {
     "name": "stdout",
     "output_type": "stream",
     "text": [
      "in calc equil:, working on (5,8)\n",
      "in calc equil:, working on (6,0)\n"
     ]
    },
    {
     "name": "stderr",
     "output_type": "stream",
     "text": [
      "<string>:126: RuntimeWarning: invalid value encountered in double_scalars\n"
     ]
    },
    {
     "name": "stdout",
     "output_type": "stream",
     "text": [
      "in calc equil:, working on (5,7)\n",
      "in calc equil:, working on (6,1)\n",
      "in calc equil:, working on (5,9)\n",
      "in calc equil:, working on (6,2)\n",
      "in calc equil:, working on (6,0)\n",
      "in calc equil:, working on (6,3)\n",
      "in calc equil:, working on (6,2)\n",
      "in calc equil:, working on (6,4)\n",
      "in calc equil:, working on (6,1)\n",
      "in calc equil:, working on (6,5)\n",
      "in calc equil:, working on (6,3)\n",
      "in calc equil:, working on (6,6)\n",
      "in calc equil:, working on (6,4)\n",
      "in calc equil:, working on (6,7)\n",
      "in calc equil:, working on (6,6)\n",
      "in calc equil:, working on (6,8)\n",
      "in calc equil:, working on (6,5)\n",
      "in calc equil:, working on (6,9)\n"
     ]
    },
    {
     "name": "stderr",
     "output_type": "stream",
     "text": [
      "<string>:126: RuntimeWarning: invalid value encountered in double_scalars\n"
     ]
    },
    {
     "name": "stdout",
     "output_type": "stream",
     "text": [
      "in calc equil:, working on (6,7)\n",
      "in calc equil:, working on (7,0)\n"
     ]
    },
    {
     "name": "stderr",
     "output_type": "stream",
     "text": [
      "<string>:126: RuntimeWarning: invalid value encountered in double_scalars\n"
     ]
    },
    {
     "name": "stdout",
     "output_type": "stream",
     "text": [
      "in calc equil:, working on (7,0)\n",
      "in calc equil:, working on (7,1)\n",
      "in calc equil:, working on (6,9)\n",
      "in calc equil:, working on (6,8)\n",
      "in calc equil:, working on (7,2)\n",
      "in calc equil:, working on (7,3)\n",
      "in calc equil:, working on (7,1)\n",
      "in calc equil:, working on (7,4)\n",
      "in calc equil:, working on (7,2)\n",
      "in calc equil:, working on (7,5)\n",
      "in calc equil:, working on (7,3)\n",
      "in calc equil:, working on (7,6)\n",
      "in calc equil:, working on (7,4)\n",
      "in calc equil:, working on (7,7)\n",
      "in calc equil:, working on (7,5)\n",
      "in calc equil:, working on (7,8)\n",
      "in calc equil:, working on (7,6)\n",
      "in calc equil:, working on (7,9)\n"
     ]
    },
    {
     "name": "stderr",
     "output_type": "stream",
     "text": [
      "<string>:126: RuntimeWarning: invalid value encountered in double_scalars\n"
     ]
    },
    {
     "name": "stdout",
     "output_type": "stream",
     "text": [
      "in calc equil:, working on (7,7)\n",
      "in calc equil:, working on (8,0)\n"
     ]
    },
    {
     "name": "stderr",
     "output_type": "stream",
     "text": [
      "<string>:126: RuntimeWarning: invalid value encountered in double_scalars\n"
     ]
    },
    {
     "name": "stdout",
     "output_type": "stream",
     "text": [
      "in calc equil:, working on (7,8)\n",
      "in calc equil:, working on (8,1)\n",
      "in calc equil:, working on (7,9)\n",
      "in calc equil:, working on (8,2)\n",
      "in calc equil:, working on (8,0)\n",
      "in calc equil:, working on (8,3)\n",
      "in calc equil:, working on (8,1)\n",
      "in calc equil:, working on (8,4)\n",
      "in calc equil:, working on (8,2)\n",
      "in calc equil:, working on (8,5)\n",
      "in calc equil:, working on (8,3)\n",
      "in calc equil:, working on (8,6)\n",
      "in calc equil:, working on (8,4)\n",
      "in calc equil:, working on (8,7)\n",
      "in calc equil:, working on (8,6)\n",
      "in calc equil:, working on (8,8)\n",
      "in calc equil:, working on (8,5)\n",
      "in calc equil:, working on (8,9)\n"
     ]
    },
    {
     "name": "stderr",
     "output_type": "stream",
     "text": [
      "<string>:126: RuntimeWarning: invalid value encountered in double_scalars\n"
     ]
    },
    {
     "name": "stdout",
     "output_type": "stream",
     "text": [
      "in calc equil:, working on (8,7)\n",
      "in calc equil:, working on (9,0)\n"
     ]
    },
    {
     "name": "stderr",
     "output_type": "stream",
     "text": [
      "<string>:126: RuntimeWarning: invalid value encountered in double_scalars\n"
     ]
    },
    {
     "name": "stdout",
     "output_type": "stream",
     "text": [
      "in calc equil:, working on (8,8)\n",
      "in calc equil:, working on (9,1)\n",
      "in calc equil:, working on (9,1)\n",
      "in calc equil:, working on (9,2)\n",
      "in calc equil:, working on (8,9)\n",
      "in calc equil:, working on (9,3)\n",
      "in calc equil:, working on (9,0)\n",
      "in calc equil:, working on (9,4)\n",
      "in calc equil:, working on (9,2)\n",
      "in calc equil:, working on (9,5)\n",
      "in calc equil:, working on (9,4)\n",
      "in calc equil:, working on (9,6)\n",
      "in calc equil:, working on (9,3)\n",
      "in calc equil:, working on (9,7)\n",
      "in calc equil:, working on (9,5)\n",
      "in calc equil:, working on (9,8)\n",
      "in calc equil:, working on (9,6)\n",
      "in calc equil:, working on (9,9)\n",
      "in calc equil:, working on (9,7)\n",
      "in calc equil:, working on (9,8)\n",
      "in calc equil:, working on (9,9)\n"
     ]
    },
    {
     "ename": "NameError",
     "evalue": "name 'test_array' is not defined",
     "output_type": "error",
     "traceback": [
      "\u001b[0;31m---------------------------------------------------------------------------\u001b[0m",
      "\u001b[0;31mNameError\u001b[0m                                 Traceback (most recent call last)",
      "\u001b[0;32m<ipython-input-3-6f54a6ae973d>\u001b[0m in \u001b[0;36m<module>\u001b[0;34m()\u001b[0m\n\u001b[1;32m     10\u001b[0m     \u001b[0mresults\u001b[0m \u001b[0;34m=\u001b[0m \u001b[0mparallel\u001b[0m\u001b[0;34m(\u001b[0m\u001b[0mcalc_jobs\u001b[0m\u001b[0;34m)\u001b[0m\u001b[0;34m\u001b[0m\u001b[0m\n\u001b[1;32m     11\u001b[0m \u001b[0;34m\u001b[0m\u001b[0m\n\u001b[0;32m---> 12\u001b[0;31m \u001b[0mdata_array_NT\u001b[0m \u001b[0;34m=\u001b[0m \u001b[0mnp\u001b[0m\u001b[0;34m.\u001b[0m\u001b[0mempty\u001b[0m\u001b[0;34m(\u001b[0m\u001b[0;34m[\u001b[0m\u001b[0mft_qv\u001b[0m\u001b[0;34m.\u001b[0m\u001b[0mshape\u001b[0m\u001b[0;34m[\u001b[0m\u001b[0;36m0\u001b[0m\u001b[0;34m]\u001b[0m\u001b[0;34m,\u001b[0m\u001b[0msst\u001b[0m\u001b[0;34m.\u001b[0m\u001b[0mshape\u001b[0m\u001b[0;34m[\u001b[0m\u001b[0;36m0\u001b[0m\u001b[0;34m]\u001b[0m\u001b[0;34m,\u001b[0m\u001b[0mtest_array\u001b[0m\u001b[0;34m.\u001b[0m\u001b[0mshape\u001b[0m\u001b[0;34m[\u001b[0m\u001b[0;36m0\u001b[0m\u001b[0;34m]\u001b[0m\u001b[0;34m]\u001b[0m\u001b[0;34m)\u001b[0m\u001b[0;34m\u001b[0m\u001b[0m\n\u001b[0m\u001b[1;32m     13\u001b[0m \u001b[0mdata_array\u001b[0m \u001b[0;34m=\u001b[0m \u001b[0mnp\u001b[0m\u001b[0;34m.\u001b[0m\u001b[0mempty\u001b[0m\u001b[0;34m(\u001b[0m\u001b[0;34m[\u001b[0m\u001b[0mft_qv\u001b[0m\u001b[0;34m.\u001b[0m\u001b[0mshape\u001b[0m\u001b[0;34m[\u001b[0m\u001b[0;36m0\u001b[0m\u001b[0;34m]\u001b[0m\u001b[0;34m,\u001b[0m\u001b[0msst\u001b[0m\u001b[0;34m.\u001b[0m\u001b[0mshape\u001b[0m\u001b[0;34m[\u001b[0m\u001b[0;36m0\u001b[0m\u001b[0;34m]\u001b[0m\u001b[0;34m,\u001b[0m\u001b[0mtest_array\u001b[0m\u001b[0;34m.\u001b[0m\u001b[0mshape\u001b[0m\u001b[0;34m[\u001b[0m\u001b[0;36m0\u001b[0m\u001b[0;34m]\u001b[0m\u001b[0;34m]\u001b[0m\u001b[0;34m)\u001b[0m\u001b[0;34m\u001b[0m\u001b[0m\n\u001b[1;32m     14\u001b[0m \u001b[0;34m\u001b[0m\u001b[0m\n",
      "\u001b[0;31mNameError\u001b[0m: name 'test_array' is not defined"
     ]
    }
   ],
   "source": [
    "ft_qv = np.linspace(2e-3,9e-3,10) \n",
    "sst = np.linspace(280,300,10)\n",
    "calc_jobs=[]\n",
    "for i in range(ft_qv.shape[0]):\n",
    "    for j in range(sst.shape[0]):\n",
    "        for use_NT in [True, False]:\n",
    "            calc_jobs.append((calc_equil,[i,j,sst[j], ft_qv[i],use_NT],{}))\n",
    "nprocs=4\n",
    "with Parallel(n_jobs=nprocs,backend='multiprocessing') as parallel:\n",
    "    results = parallel(calc_jobs)\n",
    "    \n",
    "data_array_NT = np.empty([ft_qv.shape[0],sst.shape[0],len(results[0][6:])])\n",
    "data_array = np.empty_like(data_array_NT)\n",
    "\n",
    "for item in results:\n",
    "    row, col = item[:2]\n",
    "    if item[4] == 0.:\n",
    "        data_array[row,col]=item[6:]\n",
    "    else:\n",
    "        data_array_NT[row,col]=item[6:]    \n",
    "          \n",
    "    \n",
    "pdb.set_trace()"
   ]
  },
  {
   "cell_type": "code",
   "execution_count": 6,
   "metadata": {},
   "outputs": [
    {
     "data": {
      "text/plain": [
       "14"
      ]
     },
     "execution_count": 6,
     "metadata": {},
     "output_type": "execute_result"
    }
   ],
   "source": [
    "len(results[0])"
   ]
  },
  {
   "cell_type": "markdown",
   "metadata": {},
   "source": [
    "<h2>Show Gesso Fig. 3, radiation sensitivity</h2>"
   ]
  },
  {
   "cell_type": "code",
   "execution_count": null,
   "metadata": {},
   "outputs": [],
   "source": [
    "fig1,ax1 = plt.subplots(1,1,figsize=(6,6))\n",
    "\n",
    "ax1.plot(ft_qv*1000,data_array_NT[:,0,6])\n",
    "ax1.set_title(\"Replicating Gesso Fig. 3: Radiative Jump\")\n",
    "ax1.set_xlabel(r\"$q_{t,+}\\ (g\\ kg^{-1})$\", fontsize=20)\n",
    "ax1.set_ylabel(r\"$\\Delta F_R\\ (W\\ m^{-2})$\", fontsize=20)"
   ]
  },
  {
   "cell_type": "markdown",
   "metadata": {},
   "source": [
    "<h2>Plot $w_e$ contours </h2>"
   ]
  },
  {
   "cell_type": "code",
   "execution_count": null,
   "metadata": {
    "scrolled": true
   },
   "outputs": [],
   "source": [
    "var_index = 4 # index for easy access to variables\n",
    "var_names = [\"thetal_m\", \"qt_m\", \"zi\", \"zb\", r\"$w_e$\", \"LWP\", \"delta_Fr\", \"LTS\", \"dqt\"] # variable names\n",
    "units = [\"K\", \"g kg^-1\", \"m\", \"m\", r\"$mm\\ s^{-1}$\", r\"$kg\\ {m^-2}$\", \"W m^-2\", \"K\", \"g kg^-1\"] # units\n",
    "\n",
    "#origin = 'lower'\n",
    "origin = 'upper' # origin location for contour plots\n",
    "\n",
    "delta = 0.025\n",
    "\n",
    "# mesh LTS and delta_qv\n",
    "X_NT, Y_NT = np.meshgrid((data_array_NT[0,:,7]), (data_array_NT[0,:,8])*1000)\n",
    "X, Y = np.meshgrid((data_array[0,:,7]), (data_array[0,:,8])*1000)\n",
    "\n",
    "# convert units as necessary\n",
    "if var_index == 4: # for we\n",
    "    factor = 1000\n",
    "elif var_index == 5: # for LWP\n",
    "    factor = 0.001\n",
    "else:\n",
    "    factor = 1\n",
    "    \n",
    "Z_NT = (data_array_NT[:,:,var_index]*factor)\n",
    "Z = (data_array[:,:,var_index]*factor)\n",
    "\n",
    "fig,ax = plt.subplots(1,2,figsize=(14,14))\n",
    "\n",
    "# map simple entrainment param. contour colours to be the same as NT entrainment contours\n",
    "CS0 = ax[0].contourf(X, Y, Z, 10,\n",
    "                  #[-1, -0.1, 0, 0.1],\n",
    "                  #alpha=0.5,\n",
    "                  cmap=plt.cm.jet, \n",
    "                  origin=origin, vmin=np.min(Z_NT[:]), vmax=np.max(Z_NT[:]))\n",
    "\n",
    "CS1 = ax[1].contourf(X_NT, Y_NT, Z_NT, 10,\n",
    "                  #[-1, -0.1, 0, 0.1],\n",
    "                  #alpha=0.5,\n",
    "                  cmap=plt.cm.jet,\n",
    "                  origin=origin, vmin=np.min(Z_NT[:]), vmax=np.max(Z_NT[:]))\n",
    "\n",
    "\n",
    "fig.suptitle(\"Phase Space Comparison of Two Entrainment Parameterizations\",fontsize=16)\n",
    "ax[0].set_title(\"Simple\".format(var_names[var_index], units[var_index]),fontsize=16)\n",
    "ax[1].set_title(\"Nicholls-Turton\".format(var_names[var_index], units[var_index]),fontsize=16)\n",
    "ax[0].set_xlabel('LTS (K)',fontsize=20)\n",
    "ax[1].set_xlabel('LTS (K)',fontsize=20)\n",
    "ax[0].set_ylabel(r'$\\Delta q_t\\ (g\\ kg^{-1}) $',fontsize=20)\n",
    "\n",
    "cbar = plt.colorbar(CS1)\n",
    "cbar.ax.set_ylabel(r\"$w_e\\ (mm\\ s^{-1})$\",fontsize=16)"
   ]
  },
  {
   "cell_type": "markdown",
   "metadata": {},
   "source": [
    "- Contour plots above show that by varying sst and ft_qv, LTS range remains the same. However, $\\Delta q_t$ has a much larger range for the simple entrainment parameterization, indicating the potential for much drier air at ML top for the simple entrainment."
   ]
  },
  {
   "cell_type": "markdown",
   "metadata": {},
   "source": [
    "- $w_e$ is much higher at low LTS for NT than simple. \n"
   ]
  },
  {
   "cell_type": "markdown",
   "metadata": {},
   "source": [
    "- higher $w_e$ for NT due to consideration of evaporative cooling and $\\chi$*"
   ]
  },
  {
   "cell_type": "code",
   "execution_count": null,
   "metadata": {
    "scrolled": true
   },
   "outputs": [],
   "source": [
    "print(\"max NT w_e = {}, max simple w_e = {}, ratio = {}\".format(np.max(Z_NT),np.max(Z),np.max(Z_NT)/np.max(Z)))"
   ]
  },
  {
   "cell_type": "markdown",
   "metadata": {},
   "source": [
    "- Simple parameterization shows more variance in the y-axis than the NT parameterization, especially at low LTS"
   ]
  }
 ],
 "metadata": {
  "kernelspec": {
   "display_name": "Python 3",
   "language": "python",
   "name": "python3"
  },
  "language_info": {
   "codemirror_mode": {
    "name": "ipython",
    "version": 3
   },
   "file_extension": ".py",
   "mimetype": "text/x-python",
   "name": "python",
   "nbconvert_exporter": "python",
   "pygments_lexer": "ipython3",
   "version": "3.6.4"
  },
  "toc": {
   "nav_menu": {},
   "number_sections": true,
   "sideBar": false,
   "skip_h1_title": false,
   "title_cell": "Table of Contents",
   "title_sidebar": "Contents",
   "toc_cell": true,
   "toc_position": {},
   "toc_section_display": "block",
   "toc_window_display": false
  }
 },
 "nbformat": 4,
 "nbformat_minor": 1
}
