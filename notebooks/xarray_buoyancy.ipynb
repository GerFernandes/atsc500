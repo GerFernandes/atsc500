{
 "cells": [
  {
   "cell_type": "markdown",
   "metadata": {
    "toc": true
   },
   "source": [
    "<h1>Table of Contents<span class=\"tocSkip\"></span></h1>\n",
    "<div class=\"toc\" style=\"margin-top: 1em;\"><ul class=\"toc-item\"><li><span><a href=\"#install-xarray\" data-toc-modified-id=\"install-xarray-1\"><span class=\"toc-item-num\">1&nbsp;&nbsp;</span>install xarray</a></span><ul class=\"toc-item\"><li><span><a href=\"#First-load-a-couple-of-utility-functions\" data-toc-modified-id=\"First-load-a-couple-of-utility-functions-1.1\"><span class=\"toc-item-num\">1.1&nbsp;&nbsp;</span>First load a couple of utility functions</a></span></li></ul></li><li><span><a href=\"#Conditional-sampling-the-flux\" data-toc-modified-id=\"Conditional-sampling-the-flux-2\"><span class=\"toc-item-num\">2&nbsp;&nbsp;</span>Conditional sampling the flux</a></span></li><li><span><a href=\"#writing-a-vapor-vdf-file\" data-toc-modified-id=\"writing-a-vapor-vdf-file-3\"><span class=\"toc-item-num\">3&nbsp;&nbsp;</span>writing a vapor vdf file</a></span></li></ul></div>"
   ]
  },
  {
   "cell_type": "markdown",
   "metadata": {},
   "source": [
    "# install xarray"
   ]
  },
  {
   "cell_type": "code",
   "execution_count": 1,
   "metadata": {},
   "outputs": [],
   "source": [
    "import glob"
   ]
  },
  {
   "cell_type": "code",
   "execution_count": 2,
   "metadata": {},
   "outputs": [
    {
     "name": "stdout",
     "output_type": "stream",
     "text": [
      "Fetching package metadata .................\n",
      "Solving package specifications: .\n",
      "\n",
      "# All requested packages already installed.\n",
      "# packages in environment at /Users/phil/mini36:\n",
      "#\n",
      "xarray                    0.10.0                   py36_0    conda-forge\n"
     ]
    }
   ],
   "source": [
    "!conda install -y xarray"
   ]
  },
  {
   "cell_type": "code",
   "execution_count": 3,
   "metadata": {},
   "outputs": [
    {
     "name": "stdout",
     "output_type": "stream",
     "text": [
      "mar12014_1_15600.nc\n",
      "trying http://clouds.eos.ubc.ca/~phil/docs/atsc500/dryles/mar12014_1_15600.nc\n",
      "writing to: mar12014_1_15600.nc\n",
      "\n",
      "mar12014_1_15600.nc already exists\n",
      "and is 184030444 bytes\n",
      "will not overwrite\n",
      "\n",
      "mar12014_2_15600.nc\n",
      "trying http://clouds.eos.ubc.ca/~phil/docs/atsc500/dryles/mar12014_2_15600.nc\n",
      "writing to: mar12014_2_15600.nc\n",
      "\n",
      "mar12014_2_15600.nc already exists\n",
      "and is 184030444 bytes\n",
      "will not overwrite\n",
      "\n",
      "mar12014_3_15600.nc\n",
      "trying http://clouds.eos.ubc.ca/~phil/docs/atsc500/dryles/mar12014_3_15600.nc\n",
      "writing to: mar12014_3_15600.nc\n",
      "\n",
      "mar12014_3_15600.nc already exists\n",
      "and is 184030444 bytes\n",
      "will not overwrite\n",
      "\n",
      "mar12014_4_15600.nc\n",
      "trying http://clouds.eos.ubc.ca/~phil/docs/atsc500/dryles/mar12014_4_15600.nc\n",
      "writing to: mar12014_4_15600.nc\n",
      "\n",
      "mar12014_4_15600.nc already exists\n",
      "and is 184030444 bytes\n",
      "will not overwrite\n",
      "\n",
      "mar12014_5_15600.nc\n",
      "trying http://clouds.eos.ubc.ca/~phil/docs/atsc500/dryles/mar12014_5_15600.nc\n",
      "writing to: mar12014_5_15600.nc\n",
      "\n",
      "mar12014_5_15600.nc already exists\n",
      "and is 184030444 bytes\n",
      "will not overwrite\n",
      "\n",
      "mar12014_6_15600.nc\n",
      "trying http://clouds.eos.ubc.ca/~phil/docs/atsc500/dryles/mar12014_6_15600.nc\n",
      "writing to: mar12014_6_15600.nc\n",
      "\n",
      "mar12014_6_15600.nc already exists\n",
      "and is 184030444 bytes\n",
      "will not overwrite\n",
      "\n",
      "mar12014_7_15600.nc\n",
      "trying http://clouds.eos.ubc.ca/~phil/docs/atsc500/dryles/mar12014_7_15600.nc\n",
      "writing to: mar12014_7_15600.nc\n",
      "\n",
      "mar12014_7_15600.nc already exists\n",
      "and is 184030444 bytes\n",
      "will not overwrite\n",
      "\n",
      "mar12014_8_15600.nc\n",
      "trying http://clouds.eos.ubc.ca/~phil/docs/atsc500/dryles/mar12014_8_15600.nc\n",
      "writing to: mar12014_8_15600.nc\n",
      "\n",
      "mar12014_8_15600.nc already exists\n",
      "and is 184030444 bytes\n",
      "will not overwrite\n",
      "\n",
      "mar12014_9_15600.nc\n",
      "trying http://clouds.eos.ubc.ca/~phil/docs/atsc500/dryles/mar12014_9_15600.nc\n",
      "writing to: mar12014_9_15600.nc\n",
      "\n",
      "mar12014_9_15600.nc already exists\n",
      "and is 184030444 bytes\n",
      "will not overwrite\n",
      "\n",
      "mar12014_10_15600.nc\n",
      "trying http://clouds.eos.ubc.ca/~phil/docs/atsc500/dryles/mar12014_10_15600.nc\n",
      "writing to: mar12014_10_15600.nc\n",
      "\n",
      "mar12014_10_15600.nc already exists\n",
      "and is 184030444 bytes\n",
      "will not overwrite\n",
      "\n"
     ]
    }
   ],
   "source": [
    "#get 10 files, each is the same timestep for a member of a\n",
    "#10 member ensemble\n",
    "import numpy as np\n",
    "from a500.utils.data_read import download\n",
    "root='http://clouds.eos.ubc.ca/~phil/docs/atsc500/dryles'\n",
    "for i in np.arange(1,11,dtype=np.int):\n",
    "    the_name='mar12014_{:d}_15600.nc'.format(i)\n",
    "    print(the_name)\n",
    "    url='{}/{}'.format(root,the_name)\n",
    "    download(the_name,root=root)"
   ]
  },
  {
   "cell_type": "markdown",
   "metadata": {},
   "source": [
    "Useful links:\n",
    "\n",
    "We need:\n",
    "\n",
    "* [namedtuples](https://docs.python.org/3/library/collections.html#collections.namedtuple)\n",
    "\n",
    "* [numpy.savez](http://docs.scipy.org/doc/numpy/reference/generated/numpy.savez.html)\n",
    "\n",
    "* [vapor](https://www.vapor.ucar.edu/)\n",
    "\n",
    "* [vapor videos](https://www.youtube.com/channel/UCVSuoneyeZFn4Znxl_jJ70A)\n",
    "\n",
    "* [xarray and dask](https://www.continuum.io/content/xray-dask-out-core-labeled-arrays-python)"
   ]
  },
  {
   "cell_type": "markdown",
   "metadata": {},
   "source": [
    "## First load a couple of utility functions"
   ]
  },
  {
   "cell_type": "code",
   "execution_count": 4,
   "metadata": {},
   "outputs": [],
   "source": [
    "import glob\n",
    "import xarray\n",
    "from matplotlib import pyplot as plt\n",
    "import numpy as np\n",
    "from collections import namedtuple\n",
    "import textwrap\n",
    "\n",
    "def sort_name(name):\n",
    "    \"\"\"\n",
    "      sort the filenames so '10' sorts\n",
    "      last by converting to integers\n",
    "    \"\"\"\n",
    "    front, number, back = name.split('_')\n",
    "    return int(number)\n",
    "\n",
    "\n",
    "def dict_to_nt(the_dict, tupname):\n",
    "    \"\"\"\n",
    "      convert a dictionary into a namedtuple\n",
    "    \"\"\"\n",
    "    # first define the keys as attributes\n",
    "    In_tup = namedtuple(tupname, the_dict.keys())\n",
    "    # then read the key,value pairs in and assign to\n",
    "    # attributes\n",
    "    out_tuple = In_tup(**the_dict)\n",
    "    return out_tuple"
   ]
  },
  {
   "cell_type": "markdown",
   "metadata": {},
   "source": [
    "Now use xarray to stitch together the 10 ensemble members along a new \"virtual dimenstion\".\n",
    "The variable \"ds\"  is an xray dataset, which controls the reads/writes from the\n",
    "10 netcdf files\n"
   ]
  },
  {
   "cell_type": "code",
   "execution_count": 5,
   "metadata": {},
   "outputs": [
    {
     "name": "stdout",
     "output_type": "stream",
     "text": [
      "<xarray.Dataset>\n",
      "Dimensions:  (ens: 10, time: 1, x: 192, y: 128, z: 312)\n",
      "Coordinates:\n",
      "  * x        (x) float32 0.0 25.0 50.0 75.0 100.0 125.0 150.0 175.0 200.0 ...\n",
      "  * y        (y) float32 0.0 25.0 50.0 75.0 100.0 125.0 150.0 175.0 200.0 ...\n",
      "  * z        (z) float32 25.0 50.0 75.0 100.0 125.0 150.0 175.0 200.0 205.0 ...\n",
      "  * time     (time) float32 169.181\n",
      "Dimensions without coordinates: ens\n",
      "Data variables:\n",
      "    p        (ens, z) float32 dask.array<shape=(10, 312), chunksize=(1, 312)>\n",
      "    U        (ens, time, z, y, x) float32 dask.array<shape=(10, 1, 312, 128, 192), chunksize=(1, 1, 312, 128, 192)>\n",
      "    V        (ens, time, z, y, x) float32 dask.array<shape=(10, 1, 312, 128, 192), chunksize=(1, 1, 312, 128, 192)>\n",
      "    W        (ens, time, z, y, x) float32 dask.array<shape=(10, 1, 312, 128, 192), chunksize=(1, 1, 312, 128, 192)>\n",
      "    PP       (ens, time, z, y, x) float32 dask.array<shape=(10, 1, 312, 128, 192), chunksize=(1, 1, 312, 128, 192)>\n",
      "    TABS     (ens, time, z, y, x) float32 dask.array<shape=(10, 1, 312, 128, 192), chunksize=(1, 1, 312, 128, 192)>\n",
      "    QV       (ens, time, z, y, x) float32 dask.array<shape=(10, 1, 312, 128, 192), chunksize=(1, 1, 312, 128, 192)>\n",
      "('flux_prof', 'flux_prime', 'wvelprime', 'Tprime', 'x', 'y', 'z')\n"
     ]
    }
   ],
   "source": [
    "the_files = glob.glob('mar*nc')\n",
    "the_files.sort(key=sort_name)\n",
    "\n",
    "#\n",
    "#  put the 10 ensembles together along a new \"ens\" dimension\n",
    "#  using an xray multi-file dataset\n",
    "#\n",
    "#  Checkpointing\n",
    "#\n",
    "#  This is slow, so only do it once, and store the variables\n",
    "#  using np.savez.   Then set firstrun=False and read the \n",
    "#  variables out of the npz file instead of recalculating\n",
    "#\n",
    "#  Store the variables in a namedtuple so we don't have to continually\n",
    "#  be typing in dictionary indices  (too many keystrokes)\n",
    "#\n",
    "#\n",
    "firstrun = True\n",
    "if firstrun:\n",
    "    ds = xarray.open_mfdataset(the_files, engine='netcdf4', concat_dim='ens')\n",
    "    # dump the structure\n",
    "    print(ds)\n",
    "    #\n",
    "    #  3-d ensemble average for temp\n",
    "    #\n",
    "    x = ds['x']\n",
    "    y = ds['y']\n",
    "    z = ds['z']\n",
    "    temp = ds['TABS']\n",
    "    mean_temp = temp[:, 0, :, :, :].mean(dim='ens')\n",
    "    #\n",
    "    # same for velocity\n",
    "    #\n",
    "    wvel = ds['W']\n",
    "    mean_w = wvel[:, 0, :, :, :].mean(dim='ens')\n",
    "    #\n",
    "    # now look at the perturbation fields for one ensemble member\n",
    "    #\n",
    "    wvelprime = wvel[0, 0, :, :, :] - mean_w\n",
    "    Tprime = temp[0, 0, :, :, :] - mean_temp\n",
    "    flux_prime = wvelprime * Tprime\n",
    "    flux_profile = flux_prime.mean(dim='x').mean(dim='y')\n",
    "    keep_dict = dict(flux_prof=flux_profile, flux_prime=flux_prime.values,\n",
    "                     wvelprime=wvelprime.values, Tprime=Tprime.values, x=x, y=y, z=z)\n",
    "    np.savez('dump.npz', **keep_dict)\n",
    "    var_tup = dict_to_nt(keep_dict, 'vars')\n",
    "    print(var_tup._fields)\n",
    "else:\n",
    "    in_dict = np.load('dump.npz')\n",
    "    var_tup = dict_to_nt(in_dict, 'vars')\n",
    "    print(var_tup._fields)"
   ]
  },
  {
   "cell_type": "code",
   "execution_count": 6,
   "metadata": {},
   "outputs": [
    {
     "data": {
      "image/png": "[encoded data removed]",
      "text/plain": [
       "<matplotlib.figure.Figure at 0x117a3ff28>"
      ]
     },
     "metadata": {},
     "output_type": "display_data"
    },
    {
     "data": {
      "image/png": "[encoded data removed]",
      "text/plain": [
       "<matplotlib.figure.Figure at 0x117a99ba8>"
      ]
     },
     "metadata": {},
     "output_type": "display_data"
    },
    {
     "data": {
      "image/png": "[encoded data removed]",
      "text/plain": [
       "<matplotlib.figure.Figure at 0x117a1bf60>"
      ]
     },
     "metadata": {},
     "output_type": "display_data"
    },
    {
     "data": {
      "image/png": "[encoded data removed]",
      "text/plain": [
       "<matplotlib.figure.Figure at 0x117a99f28>"
      ]
     },
     "metadata": {},
     "output_type": "display_data"
    }
   ],
   "source": [
    "fig1, ax1 = plt.subplots(1, 1)\n",
    "ax1.plot(var_tup.flux_prof, var_tup.z)\n",
    "ax1.set(ylim=[0, 1000], title='Ens 0: vertically averaged kinematic heat flux',\n",
    "        ylabel='z (m)', xlabel='flux (K m/s)')\n",
    "\n",
    "fig2, ax2 = plt.subplots(1, 1)\n",
    "z200 = np.searchsorted(var_tup.z, 200)\n",
    "ax2.hist(var_tup.flux_prime[z200, :, :].flat)\n",
    "ax2.set(title='histogram of kinematic heat flux (K m/s) at z=200 m')\n",
    "\n",
    "fig3, ax3 = plt.subplots(1, 1)\n",
    "ax3.hist(var_tup.wvelprime[z200, :, :].flat)\n",
    "ax3.set(title=\"histogram of wvel' at 200 m\")\n",
    "\n",
    "fig4, ax4 = plt.subplots(1, 1)\n",
    "ax4.hist(var_tup.Tprime[z200, :, :].flat)\n",
    "ax4.set(title=\"histogram ot T' at z=200 m\");\n",
    "\n"
   ]
  },
  {
   "cell_type": "markdown",
   "metadata": {},
   "source": [
    "# Conditional sampling the flux\n",
    "\n",
    "Write 100 where there is postively buoyant ascending air and 1 everywhere else\""
   ]
  },
  {
   "cell_type": "code",
   "execution_count": 7,
   "metadata": {},
   "outputs": [],
   "source": [
    "hit = np.logical_and(var_tup.wvelprime > 0, var_tup.Tprime > 0)\n",
    "\n",
    "pos_buoyant = np.ones_like(var_tup.flux_prime, dtype=np.float32)\n",
    "#pos_buoyant[hit] = var_tup.flux_prime[hit]\n",
    "pos_buoyant[hit] = pos_buoyant[hit]*100."
   ]
  },
  {
   "cell_type": "markdown",
   "metadata": {},
   "source": [
    "# writing a vapor vdf file"
   ]
  },
  {
   "cell_type": "markdown",
   "metadata": {},
   "source": [
    "First we need to output the x, y and z coordinates in separate files"
   ]
  },
  {
   "cell_type": "code",
   "execution_count": 8,
   "metadata": {
    "scrolled": true
   },
   "outputs": [
    {
     "name": "stdout",
     "output_type": "stream",
     "text": [
      "<class 'xarray.core.dataarray.DataArray'>\n",
      "<class 'xarray.core.dataarray.DataArray'>\n",
      "<class 'xarray.core.dataarray.DataArray'>\n"
     ]
    }
   ],
   "source": [
    "filenames = ['xvals.txt', 'yvals.txt', 'zvals.txt']\n",
    "arrays = [var_tup.x, var_tup.y, var_tup.z]\n",
    "for name, vals in zip(filenames, arrays):\n",
    "    print (type(vals))\n",
    "    with open(name, 'w') as outfile:\n",
    "        if firstrun:\n",
    "            #\n",
    "            # write all but the last without a newline\n",
    "            #\n",
    "            [outfile.write('{:6.3f} '.format(item)) for item in vals.values[:-1]]\n",
    "            #\n",
    "            # write the last value with a newline\n",
    "            #\n",
    "            outfile.write('{:6.3f}\\n'.format(vals.values[-1]))\n",
    "        else:\n",
    "            #\n",
    "            # write all but the last without a newline\n",
    "            #\n",
    "            [outfile.write('{:6.3f} '.format(item)) for item in vals[:-1]]\n",
    "            #\n",
    "            # write the last value with a newline\n",
    "            #\n",
    "            outfile.write('{:6.3f}\\n'.format(vals[-1]))\n",
    "            "
   ]
  },
  {
   "cell_type": "code",
   "execution_count": 9,
   "metadata": {},
   "outputs": [
    {
     "name": "stdout",
     "output_type": "stream",
     "text": [
      "writing an array of buoyancy of shape x,y,z= 192x128x312\n"
     ]
    }
   ],
   "source": [
    "varname = 'buoyancy'\n",
    "out_name = '{}.bin'.format(varname)\n",
    "rev_shape = pos_buoyant.shape[::-1]\n",
    "string_shape=\"{}x{}x{}\".format(*rev_shape)\n",
    "print('writing an array of {} of shape x,y,z= {}'.format(varname,string_shape))\n",
    "fp = np.memmap(out_name, dtype=np.float32,\n",
    "               mode='w+', shape=pos_buoyant.shape)\n",
    "fp[...] = pos_buoyant[...]"
   ]
  },
  {
   "cell_type": "markdown",
   "metadata": {},
   "source": [
    "Now write out a bash script that supply the data for vdfcreate"
   ]
  },
  {
   "cell_type": "code",
   "execution_count": 10,
   "metadata": {},
   "outputs": [],
   "source": [
    " vars=dict(dim=string_shape,var='buoyancy')\n",
    "    \n",
    "command=r\"\"\"\n",
    "    vdfcreate  -xcoords xvals.txt -ycoords yvals.txt -zcoords zvals.txt \\\n",
    "       -gridtype stretched -dimension {dim:s} -vars3d {var:s} -numts 1 {var:s}.vdf\n",
    "\n",
    "    raw2vdf -varname {var:s} -ts 0 {var:s}.vdf {var:s}.bin\n",
    "\"\"\"\n",
    "out=textwrap.dedent(command.format_map(vars))\n",
    "with open('make_vapor.sh','w') as f:\n",
    "    f.write('#!/bin/bash -v\\n')\n",
    "    f.write(out)"
   ]
  },
  {
   "cell_type": "code",
   "execution_count": 11,
   "metadata": {},
   "outputs": [
    {
     "name": "stdout",
     "output_type": "stream",
     "text": [
      "#!/bin/bash -v\r\n",
      "\r\n",
      "vdfcreate  -xcoords xvals.txt -ycoords yvals.txt -zcoords zvals.txt \\\r\n",
      "   -gridtype stretched -dimension 192x128x312 -vars3d buoyancy -numts 1 buoyancy.vdf\r\n",
      "\r\n",
      "raw2vdf -varname buoyancy -ts 0 buoyancy.vdf buoyancy.bin\r\n"
     ]
    }
   ],
   "source": [
    "!cat make_vapor.sh"
   ]
  },
  {
   "cell_type": "markdown",
   "metadata": {},
   "source": [
    "Now open a terminal (osx) or a bash-shell (windows) and setup the path for vapor\n",
    "following these [osx instructions](https://www.vapor.ucar.edu/docs/vapor-installation/vapor-mac-binary-installation) or these\n",
    "[windows instructions]( https://www.vapor.ucar.edu/docs/vapor-installation/vapor-windows-binary-installation)\n",
    "\n",
    "Once you've done this, vdfcreate and raw2vdf should be in our path, and\n",
    "you should  be able to do:\n",
    "\n",
    "```bash\n",
    "> bash make_vapor.sh\n",
    "```\n",
    "\n",
    "If this works, there should be a new file called\n",
    "\n",
    "  buoyancy.vdf\n",
    "  \n",
    "and a new folder called\n",
    "\n",
    "  buoyancy_data\n",
    "  \n",
    "Now executate\n",
    "\n",
    "  vaporgui\n",
    "  \n",
    "from the same terminal"
   ]
  },
  {
   "cell_type": "code",
   "execution_count": null,
   "metadata": {},
   "outputs": [],
   "source": []
  }
 ],
 "metadata": {
  "kernelspec": {
   "display_name": "Python 3",
   "language": "python",
   "name": "python3"
  },
  "language_info": {
   "codemirror_mode": {
    "name": "ipython",
    "version": 3
   },
   "file_extension": ".py",
   "mimetype": "text/x-python",
   "name": "python",
   "nbconvert_exporter": "python",
   "pygments_lexer": "ipython3",
   "version": "3.6.4"
  },
  "toc": {
   "nav_menu": {},
   "number_sections": true,
   "sideBar": false,
   "skip_h1_title": false,
   "toc_cell": true,
   "toc_position": {},
   "toc_section_display": "block",
   "toc_window_display": false
  }
 },
 "nbformat": 4,
 "nbformat_minor": 1
}
