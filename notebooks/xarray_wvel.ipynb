{
 "cells": [
  {
   "cell_type": "markdown",
   "metadata": {
    "toc": true
   },
   "source": [
    "<h1>Table of Contents<span class=\"tocSkip\"></span></h1>\n",
    "<div class=\"toc\" style=\"margin-top: 1em;\"><ul class=\"toc-item\"><li><ul class=\"toc-item\"><li><span><a href=\"#First-load-a-couple-of-utility-functions\" data-toc-modified-id=\"First-load-a-couple-of-utility-functions-0.1\"><span class=\"toc-item-num\">0.1&nbsp;&nbsp;</span>First load a couple of utility functions</a></span></li></ul></li><li><span><a href=\"#Conditional-sampling-the-flux\" data-toc-modified-id=\"Conditional-sampling-the-flux-1\"><span class=\"toc-item-num\">1&nbsp;&nbsp;</span>Conditional sampling the flux</a></span></li><li><span><a href=\"#writing-a-vapor-vdf-file\" data-toc-modified-id=\"writing-a-vapor-vdf-file-2\"><span class=\"toc-item-num\">2&nbsp;&nbsp;</span>writing a vapor vdf file</a></span></li></ul></div>"
   ]
  },
  {
   "cell_type": "code",
   "execution_count": 1,
   "metadata": {},
   "outputs": [
    {
     "name": "stdout",
     "output_type": "stream",
     "text": [
      "mar12014_1_15600.nc\n",
      "trying http://clouds.eos.ubc.ca/~phil/docs/atsc500/dryles/mar12014_1_15600.nc\n",
      "writing to: mar12014_1_15600.nc\n",
      "\n",
      "mar12014_1_15600.nc already exists\n",
      "and is 184030444 bytes\n",
      "will not overwrite\n",
      "\n",
      "mar12014_2_15600.nc\n",
      "trying http://clouds.eos.ubc.ca/~phil/docs/atsc500/dryles/mar12014_2_15600.nc\n",
      "writing to: mar12014_2_15600.nc\n",
      "\n",
      "mar12014_2_15600.nc already exists\n",
      "and is 184030444 bytes\n",
      "will not overwrite\n",
      "\n",
      "mar12014_3_15600.nc\n",
      "trying http://clouds.eos.ubc.ca/~phil/docs/atsc500/dryles/mar12014_3_15600.nc\n",
      "writing to: mar12014_3_15600.nc\n",
      "\n",
      "mar12014_3_15600.nc already exists\n",
      "and is 184030444 bytes\n",
      "will not overwrite\n",
      "\n",
      "mar12014_4_15600.nc\n",
      "trying http://clouds.eos.ubc.ca/~phil/docs/atsc500/dryles/mar12014_4_15600.nc\n",
      "writing to: mar12014_4_15600.nc\n",
      "\n",
      "mar12014_4_15600.nc already exists\n",
      "and is 184030444 bytes\n",
      "will not overwrite\n",
      "\n",
      "mar12014_5_15600.nc\n",
      "trying http://clouds.eos.ubc.ca/~phil/docs/atsc500/dryles/mar12014_5_15600.nc\n",
      "writing to: mar12014_5_15600.nc\n",
      "\n",
      "mar12014_5_15600.nc already exists\n",
      "and is 184030444 bytes\n",
      "will not overwrite\n",
      "\n",
      "mar12014_6_15600.nc\n",
      "trying http://clouds.eos.ubc.ca/~phil/docs/atsc500/dryles/mar12014_6_15600.nc\n",
      "writing to: mar12014_6_15600.nc\n",
      "\n",
      "mar12014_6_15600.nc already exists\n",
      "and is 184030444 bytes\n",
      "will not overwrite\n",
      "\n",
      "mar12014_7_15600.nc\n",
      "trying http://clouds.eos.ubc.ca/~phil/docs/atsc500/dryles/mar12014_7_15600.nc\n",
      "writing to: mar12014_7_15600.nc\n",
      "\n",
      "mar12014_7_15600.nc already exists\n",
      "and is 184030444 bytes\n",
      "will not overwrite\n",
      "\n",
      "mar12014_8_15600.nc\n",
      "trying http://clouds.eos.ubc.ca/~phil/docs/atsc500/dryles/mar12014_8_15600.nc\n",
      "writing to: mar12014_8_15600.nc\n",
      "\n",
      "mar12014_8_15600.nc already exists\n",
      "and is 184030444 bytes\n",
      "will not overwrite\n",
      "\n",
      "mar12014_9_15600.nc\n",
      "trying http://clouds.eos.ubc.ca/~phil/docs/atsc500/dryles/mar12014_9_15600.nc\n",
      "writing to: mar12014_9_15600.nc\n",
      "\n",
      "mar12014_9_15600.nc already exists\n",
      "and is 184030444 bytes\n",
      "will not overwrite\n",
      "\n",
      "mar12014_10_15600.nc\n",
      "trying http://clouds.eos.ubc.ca/~phil/docs/atsc500/dryles/mar12014_10_15600.nc\n",
      "writing to: mar12014_10_15600.nc\n",
      "\n",
      "mar12014_10_15600.nc already exists\n",
      "and is 184030444 bytes\n",
      "will not overwrite\n",
      "\n"
     ]
    }
   ],
   "source": [
    "#get 10 files, each is the same timestep for a member of a\n",
    "#10 member ensemble\n",
    "import numpy as np\n",
    "from a500.utils.data_read import download\n",
    "root='http://clouds.eos.ubc.ca/~phil/docs/atsc500/dryles'\n",
    "for i in np.arange(1,11,dtype=np.int):\n",
    "    the_name='mar12014_{:d}_15600.nc'.format(i)\n",
    "    print(the_name)\n",
    "    url='{}/{}'.format(root,the_name)\n",
    "    download(the_name,root=root)"
   ]
  },
  {
   "cell_type": "markdown",
   "metadata": {},
   "source": [
    "Useful links:\n",
    "\n",
    "We need:\n",
    "\n",
    "* [namedtuples](https://docs.python.org/3/library/collections.html#collections.namedtuple)\n",
    "\n",
    "* [numpy.savez](http://docs.scipy.org/doc/numpy/reference/generated/numpy.savez.html)\n",
    "\n",
    "* [vapor](https://www.vapor.ucar.edu/)\n",
    "\n",
    "* [vapor videos](https://www.youtube.com/channel/UCVSuoneyeZFn4Znxl_jJ70A)\n",
    "\n",
    "* [xray and dask](https://www.continuum.io/content/xray-dask-out-core-labeled-arrays-python)"
   ]
  },
  {
   "cell_type": "markdown",
   "metadata": {},
   "source": [
    "## First load a couple of utility functions"
   ]
  },
  {
   "cell_type": "code",
   "execution_count": 2,
   "metadata": {},
   "outputs": [],
   "source": [
    "import glob\n",
    "import xarray\n",
    "from matplotlib import pyplot as plt\n",
    "import numpy as np\n",
    "from collections import namedtuple\n",
    "import textwrap\n",
    "\n",
    "def sort_name(name):\n",
    "    \"\"\"\n",
    "      sort the filenames so '10' sorts\n",
    "      last by converting to integers\n",
    "    \"\"\"\n",
    "    front, number, back = name.split('_')\n",
    "    return int(number)\n",
    "\n",
    "\n",
    "def dict_to_nt(the_dict, tupname):\n",
    "    \"\"\"\n",
    "      convert a dictionary into a namedtuple\n",
    "    \"\"\"\n",
    "    # first define the keys as attributes\n",
    "    In_tup = namedtuple(tupname, the_dict.keys())\n",
    "    # then read the key,value pairs in and assign to\n",
    "    # attributes\n",
    "    out_tuple = In_tup(**the_dict)\n",
    "    return out_tuple\n"
   ]
  },
  {
   "cell_type": "markdown",
   "metadata": {},
   "source": [
    "Now use xray to stitch together the 10 ensemble members along a new \"virtual dimenstion\".\n",
    "The variable \"ds\"  is an xray dataset, which controls the reads/writes from the\n",
    "10 netcdf files\n"
   ]
  },
  {
   "cell_type": "code",
   "execution_count": 8,
   "metadata": {},
   "outputs": [
    {
     "name": "stdout",
     "output_type": "stream",
     "text": [
      "<xarray.Dataset>\n",
      "Dimensions:  (ens: 10, time: 1, x: 192, y: 128, z: 312)\n",
      "Coordinates:\n",
      "  * x        (x) float32 0.0 25.0 50.0 75.0 100.0 125.0 150.0 175.0 200.0 ...\n",
      "  * y        (y) float32 0.0 25.0 50.0 75.0 100.0 125.0 150.0 175.0 200.0 ...\n",
      "  * z        (z) float32 25.0 50.0 75.0 100.0 125.0 150.0 175.0 200.0 205.0 ...\n",
      "  * time     (time) float32 169.181\n",
      "Dimensions without coordinates: ens\n",
      "Data variables:\n",
      "    p        (ens, z) float32 dask.array<shape=(10, 312), chunksize=(1, 312)>\n",
      "    U        (ens, time, z, y, x) float32 dask.array<shape=(10, 1, 312, 128, 192), chunksize=(1, 1, 312, 128, 192)>\n",
      "    V        (ens, time, z, y, x) float32 dask.array<shape=(10, 1, 312, 128, 192), chunksize=(1, 1, 312, 128, 192)>\n",
      "    W        (ens, time, z, y, x) float32 dask.array<shape=(10, 1, 312, 128, 192), chunksize=(1, 1, 312, 128, 192)>\n",
      "    PP       (ens, time, z, y, x) float32 dask.array<shape=(10, 1, 312, 128, 192), chunksize=(1, 1, 312, 128, 192)>\n",
      "    TABS     (ens, time, z, y, x) float32 dask.array<shape=(10, 1, 312, 128, 192), chunksize=(1, 1, 312, 128, 192)>\n",
      "    QV       (ens, time, z, y, x) float32 dask.array<shape=(10, 1, 312, 128, 192), chunksize=(1, 1, 312, 128, 192)>\n"
     ]
    }
   ],
   "source": [
    "the_files = glob.glob('mar*nc')\n",
    "the_files.sort(key=sort_name)\n",
    "\n",
    "#\n",
    "#  put the 10 ensembles together along a new \"ens\" dimension\n",
    "#  using an xarray multi-file dataset\n",
    "#\n",
    "#  Checkpointing\n",
    "#\n",
    "#  This is slow, so only do it once, and store the variables\n",
    "#  using np.savez.   Then set firstrun=False and read the \n",
    "#  variables out of the npz file instead of recalculating\n",
    "#\n",
    "#  Store the variables in a namedtuple so we don't have to continually\n",
    "#  be typing in dictionary indices  (too many keystrokes)\n",
    "#\n",
    "#\n",
    "firstrun = True\n",
    "if firstrun:\n",
    "    ds = xarray.open_mfdataset(the_files, engine='netcdf4', concat_dim='ens')\n",
    "    # dump the structure\n",
    "    print(ds)\n",
    "    #\n",
    "    #  3-d ensemble average for temp\n",
    "    #\n",
    "    x = ds['x']\n",
    "    y = ds['y']\n",
    "    z = ds['z']\n",
    "    temp = ds['TABS']\n",
    "    mean_temp = temp[:, 0, :, :, :].mean(dim='ens')\n",
    "    #\n",
    "    # same for velocity\n",
    "    #\n",
    "    vvel = ds['V']\n",
    "    mean_v = vvel[:, 0, :, :, :].mean(dim='ens')\n",
    "    #\n",
    "    # now look at the perturbation fields for one ensemble\n",
    "    #\n",
    "    vvelprime = vvel[0, 0, :, :, :] - mean_v\n",
    "    Tprime = temp[0, 0, :, :, :] - mean_temp\n",
    "    flux_prime = vvelprime * Tprime\n",
    "    flux_profile = flux_prime.mean(dim=('x','y'))\n",
    "    keep_dict = dict(flux_prof=flux_profile, flux_prime=flux_prime.values,\n",
    "                     vvelprime=vvelprime.values, Tprime=Tprime.values, x=x, y=y, z=z)\n",
    "    np.savez('dump.npz', **keep_dict)\n",
    "    var_tup = dict_to_nt(keep_dict, 'vars')\n",
    "else:\n",
    "    in_dict = np.load('dump.npz')\n",
    "    var_tup = dict_to_nt(in_dict, 'vars')\n",
    "    print(var_tup._fields)\n",
    "    vvelprime = var_tup.vvelprime\n",
    "\n"
   ]
  },
  {
   "cell_type": "code",
   "execution_count": 9,
   "metadata": {},
   "outputs": [
    {
     "data": {
      "image/png": "[encoded data removed]",
      "text/plain": [
       "<matplotlib.figure.Figure at 0x110abe7f0>"
      ]
     },
     "metadata": {},
     "output_type": "display_data"
    },
    {
     "data": {
      "image/png": "[encoded data removed]",
      "text/plain": [
       "<matplotlib.figure.Figure at 0x10ecb7ac8>"
      ]
     },
     "metadata": {},
     "output_type": "display_data"
    },
    {
     "data": {
      "image/png": "[encoded data removed]",
      "text/plain": [
       "<matplotlib.figure.Figure at 0x10ec461d0>"
      ]
     },
     "metadata": {},
     "output_type": "display_data"
    },
    {
     "data": {
      "image/png": "[encoded data removed]",
      "text/plain": [
       "<matplotlib.figure.Figure at 0x10ecb72b0>"
      ]
     },
     "metadata": {},
     "output_type": "display_data"
    }
   ],
   "source": [
    "%matplotlib inline\n",
    "plt.style.use('ggplot')\n",
    "fig1, ax1 = plt.subplots(1, 1)\n",
    "ax1.plot(var_tup.flux_prof, var_tup.z)\n",
    "ax1.set(ylim=[0, 1000], title='Ens 0: y-averaged kinematic heat flux',\n",
    "        ylabel='z (m)', xlabel='flux (K m/s)')\n",
    "\n",
    "fig2, ax2 = plt.subplots(1, 1)\n",
    "z200 = np.searchsorted(var_tup.z, 200)\n",
    "ax2.hist(var_tup.flux_prime[z200, :, :].flat)\n",
    "ax2.set(title='histogram of kinematic heat flux (K m/s) at z=200 m')\n",
    "\n",
    "fig3, ax3 = plt.subplots(1, 1)\n",
    "ax3.hist(var_tup.vvelprime[z200, :, :].flat)\n",
    "ax3.set(title=\"histogram of vvel' at 200 m\")\n",
    "\n",
    "fig4, ax4 = plt.subplots(1, 1)\n",
    "ax4.hist(var_tup.Tprime[z200, :, :].flat)\n",
    "ax4.set(title=\"histogram ot T' at z=200 m\");\n",
    "\n"
   ]
  },
  {
   "cell_type": "markdown",
   "metadata": {},
   "source": [
    "# Conditional sampling the flux\n",
    "\n",
    "Write 100 where there is postively buoyant ascending air and 1 everywhere else\""
   ]
  },
  {
   "cell_type": "code",
   "execution_count": 10,
   "metadata": {},
   "outputs": [],
   "source": [
    "# just grab variance of vvelprime\n",
    "\n",
    "# first convert to numpy array \n",
    "vvelprime_array = np.array(vvelprime)\n",
    "\n",
    "# then square each element\n",
    "vvelprime_var = vvelprime_array**2\n",
    "    \n",
    "#hit = np.logical_and(var_tup.vvelprime > 0, var_tup.Tprime > 0)\n",
    "#pos_buoyant = np.ones_like(var_tup.flux_prime, dtype=np.float32)\n",
    "#pos_buoyant[hit] = var_tup.flux_prime[hit]\n",
    "#pos_buoyant[hit] = pos_buoyant[hit]*100."
   ]
  },
  {
   "cell_type": "markdown",
   "metadata": {},
   "source": [
    "# writing a vapor vdf file"
   ]
  },
  {
   "cell_type": "markdown",
   "metadata": {},
   "source": [
    "First we need to output the x, y and z coordinates in separate files"
   ]
  },
  {
   "cell_type": "code",
   "execution_count": 11,
   "metadata": {},
   "outputs": [],
   "source": [
    "if firstrun:\n",
    "    filenames = ['xvals.txt', 'yvals.txt', 'zvals.txt']\n",
    "    arrays = [var_tup.x, var_tup.y, var_tup.z]\n",
    "    for name, vals in zip(filenames, arrays):\n",
    "        with open(name, 'w') as outfile:\n",
    "            #\n",
    "            # write all but the last without a newline\n",
    "            #\n",
    "            [outfile.write('{:6.3f} '.format(item)) for item in vals.values[:-1]]\n",
    "            #\n",
    "            # write the last value with a newline\n",
    "            #\n",
    "            outfile.write('{:6.3f}\\n'.format(vals.values[-1]))"
   ]
  },
  {
   "cell_type": "markdown",
   "metadata": {},
   "source": [
    "Now write out the raw binary array using np.memmap"
   ]
  },
  {
   "cell_type": "code",
   "execution_count": 12,
   "metadata": {},
   "outputs": [
    {
     "name": "stdout",
     "output_type": "stream",
     "text": [
      "writing an array of vvelprime of shape x,y,z= 192x128x312\n"
     ]
    }
   ],
   "source": [
    "if firstrun:\n",
    "    varname = 'vvelprime'\n",
    "    out_name = '{}.bin'.format(varname)\n",
    "    rev_shape = vvelprime_var.shape[::-1]\n",
    "    string_shape=\"{}x{}x{}\".format(*rev_shape)\n",
    "    print('writing an array of {} of shape x,y,z= {}'.format(varname,string_shape))\n",
    "    fp = np.memmap(out_name, dtype=np.float32, mode='w+', shape=vvelprime_var.shape)\n",
    "    fp[...] = vvelprime_var[...]"
   ]
  },
  {
   "cell_type": "markdown",
   "metadata": {},
   "source": [
    "Now write out a bash script that supply the data for vdfcreate"
   ]
  },
  {
   "cell_type": "code",
   "execution_count": 13,
   "metadata": {},
   "outputs": [],
   "source": [
    "if firstrun:\n",
    "    \n",
    "    vars=dict(dim=string_shape,var='vvelprime')\n",
    "\n",
    "    command=r\"\"\"\n",
    "        . /Applications/VAPOR/VAPOR.app/Contents/MacOS/vapor-setup.sh \n",
    "        \n",
    "        vdfcreate  -xcoords xvals.txt -ycoords yvals.txt -zcoords zvals.txt \\\n",
    "           -gridtype stretched -dimension {dim:s} -vars3d {var:s} -numts 1 {var:s}.vdf\n",
    "\n",
    "        raw2vdf -varname {var:s} -ts 0 {var:s}.vdf {var:s}.bin\n",
    "    \"\"\"\n",
    "    out=textwrap.dedent(command.format_map(vars))\n",
    "    with open('make_vapor.sh','w') as f:\n",
    "        f.write('#!/bin/bash -v\\n')\n",
    "        f.write(out) "
   ]
  },
  {
   "cell_type": "code",
   "execution_count": 14,
   "metadata": {
    "scrolled": true
   },
   "outputs": [
    {
     "name": "stdout",
     "output_type": "stream",
     "text": [
      "#!/bin/bash -v\r\n",
      "\r\n",
      "vdfcreate  -xcoords xvals.txt -ycoords yvals.txt -zcoords zvals.txt \\\r\n",
      "   -gridtype stretched -dimension 192x128x312 -vars3d vvelprime -numts 1 vvelprime.vdf\r\n",
      "\r\n",
      "raw2vdf -varname vvelprime -ts 0 vvelprime.vdf vvelprime.bin\r\n"
     ]
    }
   ],
   "source": [
    "!cat make_vapor.sh"
   ]
  },
  {
   "cell_type": "markdown",
   "metadata": {},
   "source": [
    "Now open a terminal (osx) or a bash-shell (windows) and setup the path for vapor\n",
    "following these [osx instructions](https://www.vapor.ucar.edu/docs/vapor-installation/vapor-mac-binary-installation) or these\n",
    "[windows instructions]( https://www.vapor.ucar.edu/docs/vapor-installation/vapor-windows-binary-installation)\n",
    "\n",
    "Once you've done this, vdfcreate and raw2vdf should be in our path, and\n",
    "you should  be able to do:\n",
    "\n",
    "```bash\n",
    "> bash make_vapor.sh\n",
    "```\n",
    "\n",
    "If this works, there should be a new file called\n",
    "\n",
    "  buoyancy.vdf\n",
    "  \n",
    "and a new folder called\n",
    "\n",
    "  buoyancy_data\n",
    "  \n",
    "Now executate\n",
    "\n",
    "  vaporgui\n",
    "  \n",
    "from the same terminal"
   ]
  },
  {
   "cell_type": "code",
   "execution_count": 29,
   "metadata": {},
   "outputs": [],
   "source": [
    "# make arrays of 1's (100s) and 0's\n",
    "full_block = np.zeros_like(vvelprime_var)\n",
    "ones_block = np.ones((200,80,110)) * 100.\n",
    "\n",
    "z_size,y_size,x_size = ones_block.shape\n",
    "\n",
    "# embed ones block into middle of zeros block\n",
    "zeros_middle = (np.array(full_block.shape)/2).astype(np.int)\n",
    "z_start,y_start,x_start = zeros_middle - (np.array(ones_block.shape)/2.).astype(np.int)\n",
    "zslice=slice(z_start,z_start+z_size)\n",
    "yslice=slice(y_start,y_start+y_size)\n",
    "xslice=slice(x_start,x_start + x_size)\n",
    "full_block[zslice,yslice,xslice] = ones_block\n"
   ]
  },
  {
   "cell_type": "code",
   "execution_count": 33,
   "metadata": {},
   "outputs": [
    {
     "name": "stdout",
     "output_type": "stream",
     "text": [
      "writing an array of block of shape x,y,z= 192x128x312\n"
     ]
    }
   ],
   "source": [
    "firstrun = True\n",
    "\n",
    "if firstrun:\n",
    "    varname = 'block'\n",
    "    out_name = '{}.bin'.format(varname)\n",
    "    rev_shape = full_block.shape[::-1]\n",
    "    string_shape=\"{}x{}x{}\".format(*rev_shape)\n",
    "    print('writing an array of {} of shape x,y,z= {}'.format(varname,string_shape))\n",
    "    fp = np.memmap(out_name, dtype=np.float32, mode='w+', shape=full_block.shape)\n",
    "    fp[...] = full_block[...]"
   ]
  },
  {
   "cell_type": "code",
   "execution_count": 34,
   "metadata": {},
   "outputs": [],
   "source": [
    "if firstrun:\n",
    "    vars=dict(dim=string_shape,var='block')\n",
    "\n",
    "    command=r\"\"\"\n",
    "        . /Applications/VAPOR/VAPOR.app/Contents/MacOS/vapor-setup.sh \n",
    "        \n",
    "        vdfcreate  -xcoords xvals.txt -ycoords yvals.txt -zcoords zvals.txt \\\n",
    "           -gridtype stretched -dimension {dim:s} -vars3d {var:s} -numts 1 {var:s}.vdf\n",
    "\n",
    "        raw2vdf -varname {var:s} -ts 0 {var:s}.vdf {var:s}.bin\n",
    "    \"\"\"\n",
    "    out=textwrap.dedent(command.format_map(vars))\n",
    "    with open('make_block.sh','w') as f:\n",
    "        f.write('#!/bin/bash -v\\n')\n",
    "        f.write(out) "
   ]
  },
  {
   "cell_type": "code",
   "execution_count": 35,
   "metadata": {},
   "outputs": [
    {
     "name": "stdout",
     "output_type": "stream",
     "text": [
      "Reading slice # 0\n",
      "Reading slice # 10\n",
      "Reading slice # 20\n",
      "Reading slice # 30\n",
      "Reading slice # 40\n",
      "Reading slice # 50\n",
      "Reading slice # 60\n",
      "Reading slice # 70\n",
      "Reading slice # 80\n",
      "Reading slice # 90\n",
      "Reading slice # 100\n",
      "Reading slice # 110\n",
      "Reading slice # 120\n",
      "Reading slice # 130\n",
      "Reading slice # 140\n",
      "Reading slice # 150\n",
      "Reading slice # 160\n",
      "Reading slice # 170\n",
      "Reading slice # 180\n",
      "Reading slice # 190\n",
      "Reading slice # 200\n",
      "Reading slice # 210\n",
      "Reading slice # 220\n",
      "Reading slice # 230\n",
      "Reading slice # 240\n",
      "Reading slice # 250\n",
      "Reading slice # 260\n",
      "Reading slice # 270\n",
      "Reading slice # 280\n",
      "Reading slice # 290\n",
      "Reading slice # 300\n",
      "Reading slice # 310\n",
      "read time : 0.009754\n",
      "write time : 0.068852\n",
      "transform time : 0.042143\n",
      "total transform time : 0.180096\n",
      "min and max values of data output: 0, 100\n"
     ]
    }
   ],
   "source": [
    "!bash make_block.sh"
   ]
  },
  {
   "cell_type": "code",
   "execution_count": null,
   "metadata": {},
   "outputs": [],
   "source": []
  }
 ],
 "metadata": {
  "kernelspec": {
   "display_name": "Python 3",
   "language": "python",
   "name": "python3"
  },
  "language_info": {
   "codemirror_mode": {
    "name": "ipython",
    "version": 3
   },
   "file_extension": ".py",
   "mimetype": "text/x-python",
   "name": "python",
   "nbconvert_exporter": "python",
   "pygments_lexer": "ipython3",
   "version": "3.6.4"
  },
  "toc": {
   "nav_menu": {},
   "number_sections": true,
   "sideBar": false,
   "skip_h1_title": false,
   "toc_cell": true,
   "toc_position": {},
   "toc_section_display": "block",
   "toc_window_display": false
  }
 },
 "nbformat": 4,
 "nbformat_minor": 1
}
